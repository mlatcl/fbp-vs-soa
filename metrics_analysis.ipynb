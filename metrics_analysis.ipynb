{
 "cells": [
  {
   "cell_type": "markdown",
   "id": "e50cd64e",
   "metadata": {},
   "source": [
    "First off, just read the data"
   ]
  },
  {
   "cell_type": "code",
   "execution_count": 1,
   "id": "a7367879",
   "metadata": {},
   "outputs": [],
   "source": [
    "import pandas as pd\n",
    "import seaborn as sns\n",
    "import numpy as np\n",
    "\n",
    "%matplotlib inline\n",
    "import matplotlib.pyplot as plt\n",
    "from matplotlib.lines import Line2D"
   ]
  },
  {
   "cell_type": "code",
   "execution_count": 2,
   "id": "84f9c8fc",
   "metadata": {},
   "outputs": [],
   "source": [
    "df = pd.read_csv(\"results.csv\")"
   ]
  },
  {
   "cell_type": "code",
   "execution_count": 3,
   "id": "beb3ec0b",
   "metadata": {},
   "outputs": [],
   "source": [
    "from IPython.core.interactiveshell import InteractiveShell\n",
    "InteractiveShell.ast_node_interactivity = \"all\""
   ]
  },
  {
   "cell_type": "code",
   "execution_count": 4,
   "id": "0e706d9c",
   "metadata": {},
   "outputs": [
    {
     "data": {
      "text/html": [
       "<div>\n",
       "<style scoped>\n",
       "    .dataframe tbody tr th:only-of-type {\n",
       "        vertical-align: middle;\n",
       "    }\n",
       "\n",
       "    .dataframe tbody tr th {\n",
       "        vertical-align: top;\n",
       "    }\n",
       "\n",
       "    .dataframe thead th {\n",
       "        text-align: right;\n",
       "    }\n",
       "</style>\n",
       "<table border=\"1\" class=\"dataframe\">\n",
       "  <thead>\n",
       "    <tr style=\"text-align: right;\">\n",
       "      <th></th>\n",
       "      <th>App</th>\n",
       "      <th>Key</th>\n",
       "      <th>Logical Lines of Code</th>\n",
       "      <th>Halstead Volume</th>\n",
       "      <th>Halstead Difficulty</th>\n",
       "      <th>Halstead Effort</th>\n",
       "      <th>Maintainability Index</th>\n",
       "      <th>Cyclomatic Complexity avg</th>\n",
       "      <th>Cyclomatic Complexity p99</th>\n",
       "      <th>Cognitive Complexity avg</th>\n",
       "      <th>Cognitive Complexity p99</th>\n",
       "      <th>Number of Words</th>\n",
       "    </tr>\n",
       "  </thead>\n",
       "  <tbody>\n",
       "    <tr>\n",
       "      <th>0</th>\n",
       "      <td>insurance_claims</td>\n",
       "      <td>fbp_app_min</td>\n",
       "      <td>210</td>\n",
       "      <td>543.658677</td>\n",
       "      <td>6.210526</td>\n",
       "      <td>3376.406518</td>\n",
       "      <td>43.30</td>\n",
       "      <td>1.93478</td>\n",
       "      <td>6</td>\n",
       "      <td>0.424242</td>\n",
       "      <td>4</td>\n",
       "      <td>846</td>\n",
       "    </tr>\n",
       "    <tr>\n",
       "      <th>1</th>\n",
       "      <td>insurance_claims</td>\n",
       "      <td>fbp_app_data</td>\n",
       "      <td>239</td>\n",
       "      <td>610.424232</td>\n",
       "      <td>6.190476</td>\n",
       "      <td>3778.816672</td>\n",
       "      <td>40.80</td>\n",
       "      <td>2.12500</td>\n",
       "      <td>8</td>\n",
       "      <td>0.657143</td>\n",
       "      <td>5</td>\n",
       "      <td>974</td>\n",
       "    </tr>\n",
       "    <tr>\n",
       "      <th>2</th>\n",
       "      <td>insurance_claims</td>\n",
       "      <td>fbp_app_ml</td>\n",
       "      <td>263</td>\n",
       "      <td>543.658677</td>\n",
       "      <td>6.848214</td>\n",
       "      <td>3723.091116</td>\n",
       "      <td>41.85</td>\n",
       "      <td>2.29412</td>\n",
       "      <td>6</td>\n",
       "      <td>0.918919</td>\n",
       "      <td>7</td>\n",
       "      <td>1124</td>\n",
       "    </tr>\n",
       "    <tr>\n",
       "      <th>3</th>\n",
       "      <td>insurance_claims</td>\n",
       "      <td>soa_app_min</td>\n",
       "      <td>250</td>\n",
       "      <td>383.285425</td>\n",
       "      <td>6.000000</td>\n",
       "      <td>2299.712549</td>\n",
       "      <td>46.22</td>\n",
       "      <td>1.36364</td>\n",
       "      <td>2</td>\n",
       "      <td>1.166670</td>\n",
       "      <td>4</td>\n",
       "      <td>1094</td>\n",
       "    </tr>\n",
       "    <tr>\n",
       "      <th>4</th>\n",
       "      <td>insurance_claims</td>\n",
       "      <td>soa_app_data</td>\n",
       "      <td>285</td>\n",
       "      <td>463.722322</td>\n",
       "      <td>7.000000</td>\n",
       "      <td>3246.056251</td>\n",
       "      <td>44.19</td>\n",
       "      <td>1.41667</td>\n",
       "      <td>2</td>\n",
       "      <td>1.176470</td>\n",
       "      <td>4</td>\n",
       "      <td>1247</td>\n",
       "    </tr>\n",
       "    <tr>\n",
       "      <th>5</th>\n",
       "      <td>insurance_claims</td>\n",
       "      <td>soa_app_ml</td>\n",
       "      <td>356</td>\n",
       "      <td>675.754180</td>\n",
       "      <td>7.101449</td>\n",
       "      <td>4798.834030</td>\n",
       "      <td>38.49</td>\n",
       "      <td>1.38462</td>\n",
       "      <td>2</td>\n",
       "      <td>1.487180</td>\n",
       "      <td>9</td>\n",
       "      <td>1508</td>\n",
       "    </tr>\n",
       "    <tr>\n",
       "      <th>6</th>\n",
       "      <td>mblogger</td>\n",
       "      <td>fbp_app_min</td>\n",
       "      <td>172</td>\n",
       "      <td>155.114511</td>\n",
       "      <td>2.000000</td>\n",
       "      <td>310.229021</td>\n",
       "      <td>44.10</td>\n",
       "      <td>1.81081</td>\n",
       "      <td>5</td>\n",
       "      <td>0.307692</td>\n",
       "      <td>2</td>\n",
       "      <td>529</td>\n",
       "    </tr>\n",
       "    <tr>\n",
       "      <th>7</th>\n",
       "      <td>mblogger</td>\n",
       "      <td>fbp_app_data</td>\n",
       "      <td>225</td>\n",
       "      <td>271.418333</td>\n",
       "      <td>3.000000</td>\n",
       "      <td>814.254999</td>\n",
       "      <td>36.56</td>\n",
       "      <td>2.04348</td>\n",
       "      <td>7</td>\n",
       "      <td>0.562500</td>\n",
       "      <td>4</td>\n",
       "      <td>709</td>\n",
       "    </tr>\n",
       "    <tr>\n",
       "      <th>8</th>\n",
       "      <td>mblogger</td>\n",
       "      <td>fbp_app_ml</td>\n",
       "      <td>276</td>\n",
       "      <td>370.570850</td>\n",
       "      <td>3.069767</td>\n",
       "      <td>1137.566329</td>\n",
       "      <td>32.28</td>\n",
       "      <td>2.01818</td>\n",
       "      <td>7</td>\n",
       "      <td>0.552632</td>\n",
       "      <td>4</td>\n",
       "      <td>873</td>\n",
       "    </tr>\n",
       "    <tr>\n",
       "      <th>9</th>\n",
       "      <td>mblogger</td>\n",
       "      <td>soa_app_min</td>\n",
       "      <td>240</td>\n",
       "      <td>213.673439</td>\n",
       "      <td>3.000000</td>\n",
       "      <td>641.020318</td>\n",
       "      <td>46.93</td>\n",
       "      <td>1.75000</td>\n",
       "      <td>3</td>\n",
       "      <td>1.142860</td>\n",
       "      <td>3</td>\n",
       "      <td>1002</td>\n",
       "    </tr>\n",
       "    <tr>\n",
       "      <th>10</th>\n",
       "      <td>mblogger</td>\n",
       "      <td>soa_app_data</td>\n",
       "      <td>265</td>\n",
       "      <td>213.673439</td>\n",
       "      <td>3.000000</td>\n",
       "      <td>641.020318</td>\n",
       "      <td>45.11</td>\n",
       "      <td>1.75000</td>\n",
       "      <td>3</td>\n",
       "      <td>1.133330</td>\n",
       "      <td>3</td>\n",
       "      <td>1144</td>\n",
       "    </tr>\n",
       "    <tr>\n",
       "      <th>11</th>\n",
       "      <td>mblogger</td>\n",
       "      <td>soa_app_ml</td>\n",
       "      <td>339</td>\n",
       "      <td>291.185141</td>\n",
       "      <td>3.000000</td>\n",
       "      <td>873.555422</td>\n",
       "      <td>40.18</td>\n",
       "      <td>1.73333</td>\n",
       "      <td>3</td>\n",
       "      <td>1.108110</td>\n",
       "      <td>4</td>\n",
       "      <td>1454</td>\n",
       "    </tr>\n",
       "    <tr>\n",
       "      <th>12</th>\n",
       "      <td>ride_allocation</td>\n",
       "      <td>fbp_app_min</td>\n",
       "      <td>274</td>\n",
       "      <td>627.008673</td>\n",
       "      <td>5.862069</td>\n",
       "      <td>3675.568081</td>\n",
       "      <td>33.26</td>\n",
       "      <td>2.14815</td>\n",
       "      <td>7</td>\n",
       "      <td>0.736842</td>\n",
       "      <td>6</td>\n",
       "      <td>956</td>\n",
       "    </tr>\n",
       "    <tr>\n",
       "      <th>13</th>\n",
       "      <td>ride_allocation</td>\n",
       "      <td>fbp_app_data</td>\n",
       "      <td>321</td>\n",
       "      <td>767.121850</td>\n",
       "      <td>6.956522</td>\n",
       "      <td>5336.499829</td>\n",
       "      <td>28.79</td>\n",
       "      <td>2.42105</td>\n",
       "      <td>7</td>\n",
       "      <td>1.390240</td>\n",
       "      <td>12</td>\n",
       "      <td>1154</td>\n",
       "    </tr>\n",
       "    <tr>\n",
       "      <th>14</th>\n",
       "      <td>ride_allocation</td>\n",
       "      <td>fbp_app_ml</td>\n",
       "      <td>360</td>\n",
       "      <td>880.699747</td>\n",
       "      <td>7.012987</td>\n",
       "      <td>6176.335885</td>\n",
       "      <td>26.08</td>\n",
       "      <td>2.44444</td>\n",
       "      <td>7</td>\n",
       "      <td>1.400000</td>\n",
       "      <td>12</td>\n",
       "      <td>1300</td>\n",
       "    </tr>\n",
       "    <tr>\n",
       "      <th>15</th>\n",
       "      <td>ride_allocation</td>\n",
       "      <td>soa_app_min</td>\n",
       "      <td>446</td>\n",
       "      <td>1114.284202</td>\n",
       "      <td>4.808824</td>\n",
       "      <td>5358.396089</td>\n",
       "      <td>31.74</td>\n",
       "      <td>2.31250</td>\n",
       "      <td>4</td>\n",
       "      <td>1.555560</td>\n",
       "      <td>7</td>\n",
       "      <td>1908</td>\n",
       "    </tr>\n",
       "    <tr>\n",
       "      <th>16</th>\n",
       "      <td>ride_allocation</td>\n",
       "      <td>soa_app_data</td>\n",
       "      <td>542</td>\n",
       "      <td>1290.796786</td>\n",
       "      <td>5.301724</td>\n",
       "      <td>6843.448477</td>\n",
       "      <td>27.87</td>\n",
       "      <td>2.23810</td>\n",
       "      <td>5</td>\n",
       "      <td>1.581820</td>\n",
       "      <td>7</td>\n",
       "      <td>2299</td>\n",
       "    </tr>\n",
       "    <tr>\n",
       "      <th>17</th>\n",
       "      <td>ride_allocation</td>\n",
       "      <td>soa_app_ml</td>\n",
       "      <td>596</td>\n",
       "      <td>1417.492568</td>\n",
       "      <td>5.852000</td>\n",
       "      <td>8295.166509</td>\n",
       "      <td>25.42</td>\n",
       "      <td>2.27273</td>\n",
       "      <td>5</td>\n",
       "      <td>1.694920</td>\n",
       "      <td>7</td>\n",
       "      <td>2486</td>\n",
       "    </tr>\n",
       "  </tbody>\n",
       "</table>\n",
       "</div>"
      ],
      "text/plain": [
       "                 App           Key  Logical Lines of Code  Halstead Volume  \\\n",
       "0   insurance_claims   fbp_app_min                    210       543.658677   \n",
       "1   insurance_claims  fbp_app_data                    239       610.424232   \n",
       "2   insurance_claims    fbp_app_ml                    263       543.658677   \n",
       "3   insurance_claims   soa_app_min                    250       383.285425   \n",
       "4   insurance_claims  soa_app_data                    285       463.722322   \n",
       "5   insurance_claims    soa_app_ml                    356       675.754180   \n",
       "6           mblogger   fbp_app_min                    172       155.114511   \n",
       "7           mblogger  fbp_app_data                    225       271.418333   \n",
       "8           mblogger    fbp_app_ml                    276       370.570850   \n",
       "9           mblogger   soa_app_min                    240       213.673439   \n",
       "10          mblogger  soa_app_data                    265       213.673439   \n",
       "11          mblogger    soa_app_ml                    339       291.185141   \n",
       "12   ride_allocation   fbp_app_min                    274       627.008673   \n",
       "13   ride_allocation  fbp_app_data                    321       767.121850   \n",
       "14   ride_allocation    fbp_app_ml                    360       880.699747   \n",
       "15   ride_allocation   soa_app_min                    446      1114.284202   \n",
       "16   ride_allocation  soa_app_data                    542      1290.796786   \n",
       "17   ride_allocation    soa_app_ml                    596      1417.492568   \n",
       "\n",
       "    Halstead Difficulty  Halstead Effort  Maintainability Index  \\\n",
       "0              6.210526      3376.406518                  43.30   \n",
       "1              6.190476      3778.816672                  40.80   \n",
       "2              6.848214      3723.091116                  41.85   \n",
       "3              6.000000      2299.712549                  46.22   \n",
       "4              7.000000      3246.056251                  44.19   \n",
       "5              7.101449      4798.834030                  38.49   \n",
       "6              2.000000       310.229021                  44.10   \n",
       "7              3.000000       814.254999                  36.56   \n",
       "8              3.069767      1137.566329                  32.28   \n",
       "9              3.000000       641.020318                  46.93   \n",
       "10             3.000000       641.020318                  45.11   \n",
       "11             3.000000       873.555422                  40.18   \n",
       "12             5.862069      3675.568081                  33.26   \n",
       "13             6.956522      5336.499829                  28.79   \n",
       "14             7.012987      6176.335885                  26.08   \n",
       "15             4.808824      5358.396089                  31.74   \n",
       "16             5.301724      6843.448477                  27.87   \n",
       "17             5.852000      8295.166509                  25.42   \n",
       "\n",
       "    Cyclomatic Complexity avg  Cyclomatic Complexity p99  \\\n",
       "0                     1.93478                          6   \n",
       "1                     2.12500                          8   \n",
       "2                     2.29412                          6   \n",
       "3                     1.36364                          2   \n",
       "4                     1.41667                          2   \n",
       "5                     1.38462                          2   \n",
       "6                     1.81081                          5   \n",
       "7                     2.04348                          7   \n",
       "8                     2.01818                          7   \n",
       "9                     1.75000                          3   \n",
       "10                    1.75000                          3   \n",
       "11                    1.73333                          3   \n",
       "12                    2.14815                          7   \n",
       "13                    2.42105                          7   \n",
       "14                    2.44444                          7   \n",
       "15                    2.31250                          4   \n",
       "16                    2.23810                          5   \n",
       "17                    2.27273                          5   \n",
       "\n",
       "    Cognitive Complexity avg  Cognitive Complexity p99  Number of Words  \n",
       "0                   0.424242                         4              846  \n",
       "1                   0.657143                         5              974  \n",
       "2                   0.918919                         7             1124  \n",
       "3                   1.166670                         4             1094  \n",
       "4                   1.176470                         4             1247  \n",
       "5                   1.487180                         9             1508  \n",
       "6                   0.307692                         2              529  \n",
       "7                   0.562500                         4              709  \n",
       "8                   0.552632                         4              873  \n",
       "9                   1.142860                         3             1002  \n",
       "10                  1.133330                         3             1144  \n",
       "11                  1.108110                         4             1454  \n",
       "12                  0.736842                         6              956  \n",
       "13                  1.390240                        12             1154  \n",
       "14                  1.400000                        12             1300  \n",
       "15                  1.555560                         7             1908  \n",
       "16                  1.581820                         7             2299  \n",
       "17                  1.694920                         7             2486  "
      ]
     },
     "execution_count": 4,
     "metadata": {},
     "output_type": "execute_result"
    }
   ],
   "source": [
    "df"
   ]
  },
  {
   "cell_type": "code",
   "execution_count": 5,
   "id": "da47df04",
   "metadata": {
    "scrolled": false
   },
   "outputs": [
    {
     "data": {
      "image/png": "[encoded data removed]",
      "text/plain": [
       "<Figure size 864x648 with 30 Axes>"
      ]
     },
     "metadata": {
      "needs_background": "light"
     },
     "output_type": "display_data"
    }
   ],
   "source": [
    "apps = df[\"App\"].unique().tolist()\n",
    "metrics = df.columns[2:].tolist()\n",
    "\n",
    "fig, axes = plt.subplots(nrows=len(metrics), ncols=len(apps), figsize=(12, 9))\n",
    "\n",
    "for ax, app in zip(axes[0], apps):\n",
    "    ax.set_title(app);\n",
    "\n",
    "for ax, metric in zip(axes[:,0], metrics):\n",
    "    ax.set_ylabel(metric.replace(' ', \"\\n\"), size=10);\n",
    "\n",
    "for ir, metric in enumerate(metrics):\n",
    "    for ic, app in enumerate(apps):\n",
    "        values = df[df[\"App\"] == app][[\"Key\", metric]]\n",
    "        values_fbp = values.loc[values['Key'].isin(['fbp_app_min','fbp_app_data','fbp_app_ml'])]\n",
    "        values_soa = values.loc[values['Key'].isin(['soa_app_min','soa_app_data','soa_app_ml'])]\n",
    "        labels = [k[k.rfind('_')+1:] for k in values_fbp[\"Key\"]]\n",
    "        X = np.arange(len(values_fbp))\n",
    "        axes[ir][ic].bar(\n",
    "            X, values_fbp[metric], width=0.25,\n",
    "            tick_label=labels, align='center', color='b'\n",
    "        );\n",
    "        axes[ir][ic].bar(\n",
    "            X+0.25, values_soa[metric], width=0.25,\n",
    "            tick_label=labels, align='center', color='r'\n",
    "        );\n",
    "        \n",
    "        \n",
    "\n",
    "fig.tight_layout();\n",
    "\n",
    "\n",
    "legend_elements = [Line2D([0], [0], color='b', label='FBP'),\n",
    "                   Line2D([0], [0], color='r', label='SOA')]\n",
    "\n",
    "fig.legend(handles=legend_elements, loc='upper left')\n",
    "\n",
    "plt.show();"
   ]
  },
  {
   "cell_type": "markdown",
   "id": "f5acfb77",
   "metadata": {},
   "source": [
    "Some metrics scale with the size of the codebase, while others don't. For the former we calculate change in percentages, for the latter in absolute values."
   ]
  },
  {
   "cell_type": "code",
   "execution_count": 6,
   "id": "76e5e498",
   "metadata": {},
   "outputs": [],
   "source": [
    "absolute_diff_metrics = [\n",
    "    \"Halstead Difficulty\", \"Maintainability Index\",\n",
    "    \"Cyclomatic Complexity avg\", \"Cyclomatic Complexity p99\",\n",
    "    \"Cognitive Complexity avg\", \"Cognitive Complexity p99\"\n",
    "]\n",
    "percentage_diff_metrics = [\n",
    "    \"Logical Lines of Code\", \"Halstead Volume\",\n",
    "    \"Halstead Effort\", \"Number of Words\"\n",
    "]"
   ]
  },
  {
   "cell_type": "markdown",
   "id": "5e667aee",
   "metadata": {},
   "source": [
    "Here we calculate the differences and re-organize the dataframe a bit."
   ]
  },
  {
   "cell_type": "code",
   "execution_count": 7,
   "id": "45a8a239",
   "metadata": {
    "scrolled": false
   },
   "outputs": [
    {
     "data": {
      "text/html": [
       "<div>\n",
       "<style scoped>\n",
       "    .dataframe tbody tr th:only-of-type {\n",
       "        vertical-align: middle;\n",
       "    }\n",
       "\n",
       "    .dataframe tbody tr th {\n",
       "        vertical-align: top;\n",
       "    }\n",
       "\n",
       "    .dataframe thead th {\n",
       "        text-align: right;\n",
       "    }\n",
       "</style>\n",
       "<table border=\"1\" class=\"dataframe\">\n",
       "  <thead>\n",
       "    <tr style=\"text-align: right;\">\n",
       "      <th></th>\n",
       "      <th>App</th>\n",
       "      <th>Paradigm</th>\n",
       "      <th>Keys</th>\n",
       "      <th>Logical Lines of Code</th>\n",
       "      <th>Halstead Volume</th>\n",
       "      <th>Halstead Effort</th>\n",
       "      <th>Number of Words</th>\n",
       "      <th>Halstead Difficulty</th>\n",
       "      <th>Maintainability Index</th>\n",
       "      <th>Cyclomatic Complexity avg</th>\n",
       "      <th>Cyclomatic Complexity p99</th>\n",
       "      <th>Cognitive Complexity avg</th>\n",
       "      <th>Cognitive Complexity p99</th>\n",
       "    </tr>\n",
       "  </thead>\n",
       "  <tbody>\n",
       "    <tr>\n",
       "      <th>1</th>\n",
       "      <td>insurance_claims</td>\n",
       "      <td>fbp</td>\n",
       "      <td>min/data</td>\n",
       "      <td>0.138095</td>\n",
       "      <td>0.122808</td>\n",
       "      <td>0.119183</td>\n",
       "      <td>0.151300</td>\n",
       "      <td>-0.020050</td>\n",
       "      <td>-2.50</td>\n",
       "      <td>0.19022</td>\n",
       "      <td>2.0</td>\n",
       "      <td>0.232901</td>\n",
       "      <td>1.0</td>\n",
       "    </tr>\n",
       "    <tr>\n",
       "      <th>2</th>\n",
       "      <td>insurance_claims</td>\n",
       "      <td>fbp</td>\n",
       "      <td>data/ml</td>\n",
       "      <td>0.100418</td>\n",
       "      <td>-0.109376</td>\n",
       "      <td>-0.014747</td>\n",
       "      <td>0.154004</td>\n",
       "      <td>0.657738</td>\n",
       "      <td>1.05</td>\n",
       "      <td>0.16912</td>\n",
       "      <td>-2.0</td>\n",
       "      <td>0.261776</td>\n",
       "      <td>2.0</td>\n",
       "    </tr>\n",
       "    <tr>\n",
       "      <th>7</th>\n",
       "      <td>mblogger</td>\n",
       "      <td>fbp</td>\n",
       "      <td>min/data</td>\n",
       "      <td>0.308140</td>\n",
       "      <td>0.749793</td>\n",
       "      <td>1.624690</td>\n",
       "      <td>0.340265</td>\n",
       "      <td>1.000000</td>\n",
       "      <td>-7.54</td>\n",
       "      <td>0.23267</td>\n",
       "      <td>2.0</td>\n",
       "      <td>0.254808</td>\n",
       "      <td>2.0</td>\n",
       "    </tr>\n",
       "    <tr>\n",
       "      <th>8</th>\n",
       "      <td>mblogger</td>\n",
       "      <td>fbp</td>\n",
       "      <td>data/ml</td>\n",
       "      <td>0.226667</td>\n",
       "      <td>0.365313</td>\n",
       "      <td>0.397064</td>\n",
       "      <td>0.231312</td>\n",
       "      <td>0.069767</td>\n",
       "      <td>-4.28</td>\n",
       "      <td>-0.02530</td>\n",
       "      <td>0.0</td>\n",
       "      <td>-0.009868</td>\n",
       "      <td>0.0</td>\n",
       "    </tr>\n",
       "    <tr>\n",
       "      <th>13</th>\n",
       "      <td>ride_allocation</td>\n",
       "      <td>fbp</td>\n",
       "      <td>min/data</td>\n",
       "      <td>0.171533</td>\n",
       "      <td>0.223463</td>\n",
       "      <td>0.451884</td>\n",
       "      <td>0.207113</td>\n",
       "      <td>1.094453</td>\n",
       "      <td>-4.47</td>\n",
       "      <td>0.27290</td>\n",
       "      <td>0.0</td>\n",
       "      <td>0.653398</td>\n",
       "      <td>6.0</td>\n",
       "    </tr>\n",
       "    <tr>\n",
       "      <th>14</th>\n",
       "      <td>ride_allocation</td>\n",
       "      <td>fbp</td>\n",
       "      <td>data/ml</td>\n",
       "      <td>0.121495</td>\n",
       "      <td>0.148057</td>\n",
       "      <td>0.157376</td>\n",
       "      <td>0.126516</td>\n",
       "      <td>0.056465</td>\n",
       "      <td>-2.71</td>\n",
       "      <td>0.02339</td>\n",
       "      <td>0.0</td>\n",
       "      <td>0.009760</td>\n",
       "      <td>0.0</td>\n",
       "    </tr>\n",
       "    <tr>\n",
       "      <th>4</th>\n",
       "      <td>insurance_claims</td>\n",
       "      <td>soa</td>\n",
       "      <td>min/data</td>\n",
       "      <td>0.140000</td>\n",
       "      <td>0.209862</td>\n",
       "      <td>0.411505</td>\n",
       "      <td>0.139854</td>\n",
       "      <td>1.000000</td>\n",
       "      <td>-2.03</td>\n",
       "      <td>0.05303</td>\n",
       "      <td>0.0</td>\n",
       "      <td>0.009800</td>\n",
       "      <td>0.0</td>\n",
       "    </tr>\n",
       "    <tr>\n",
       "      <th>5</th>\n",
       "      <td>insurance_claims</td>\n",
       "      <td>soa</td>\n",
       "      <td>data/ml</td>\n",
       "      <td>0.249123</td>\n",
       "      <td>0.457239</td>\n",
       "      <td>0.478358</td>\n",
       "      <td>0.209302</td>\n",
       "      <td>0.101449</td>\n",
       "      <td>-5.70</td>\n",
       "      <td>-0.03205</td>\n",
       "      <td>0.0</td>\n",
       "      <td>0.310710</td>\n",
       "      <td>5.0</td>\n",
       "    </tr>\n",
       "    <tr>\n",
       "      <th>10</th>\n",
       "      <td>mblogger</td>\n",
       "      <td>soa</td>\n",
       "      <td>min/data</td>\n",
       "      <td>0.104167</td>\n",
       "      <td>0.000000</td>\n",
       "      <td>0.000000</td>\n",
       "      <td>0.141717</td>\n",
       "      <td>0.000000</td>\n",
       "      <td>-1.82</td>\n",
       "      <td>0.00000</td>\n",
       "      <td>0.0</td>\n",
       "      <td>-0.009530</td>\n",
       "      <td>0.0</td>\n",
       "    </tr>\n",
       "    <tr>\n",
       "      <th>11</th>\n",
       "      <td>mblogger</td>\n",
       "      <td>soa</td>\n",
       "      <td>data/ml</td>\n",
       "      <td>0.279245</td>\n",
       "      <td>0.362758</td>\n",
       "      <td>0.362758</td>\n",
       "      <td>0.270979</td>\n",
       "      <td>0.000000</td>\n",
       "      <td>-4.93</td>\n",
       "      <td>-0.01667</td>\n",
       "      <td>0.0</td>\n",
       "      <td>-0.025220</td>\n",
       "      <td>1.0</td>\n",
       "    </tr>\n",
       "    <tr>\n",
       "      <th>16</th>\n",
       "      <td>ride_allocation</td>\n",
       "      <td>soa</td>\n",
       "      <td>min/data</td>\n",
       "      <td>0.215247</td>\n",
       "      <td>0.158409</td>\n",
       "      <td>0.277145</td>\n",
       "      <td>0.204927</td>\n",
       "      <td>0.492901</td>\n",
       "      <td>-3.87</td>\n",
       "      <td>-0.07440</td>\n",
       "      <td>1.0</td>\n",
       "      <td>0.026260</td>\n",
       "      <td>0.0</td>\n",
       "    </tr>\n",
       "    <tr>\n",
       "      <th>17</th>\n",
       "      <td>ride_allocation</td>\n",
       "      <td>soa</td>\n",
       "      <td>data/ml</td>\n",
       "      <td>0.099631</td>\n",
       "      <td>0.098153</td>\n",
       "      <td>0.212133</td>\n",
       "      <td>0.081340</td>\n",
       "      <td>0.550276</td>\n",
       "      <td>-2.45</td>\n",
       "      <td>0.03463</td>\n",
       "      <td>0.0</td>\n",
       "      <td>0.113100</td>\n",
       "      <td>0.0</td>\n",
       "    </tr>\n",
       "  </tbody>\n",
       "</table>\n",
       "</div>"
      ],
      "text/plain": [
       "                 App Paradigm      Keys  Logical Lines of Code  \\\n",
       "1   insurance_claims      fbp  min/data               0.138095   \n",
       "2   insurance_claims      fbp   data/ml               0.100418   \n",
       "7           mblogger      fbp  min/data               0.308140   \n",
       "8           mblogger      fbp   data/ml               0.226667   \n",
       "13   ride_allocation      fbp  min/data               0.171533   \n",
       "14   ride_allocation      fbp   data/ml               0.121495   \n",
       "4   insurance_claims      soa  min/data               0.140000   \n",
       "5   insurance_claims      soa   data/ml               0.249123   \n",
       "10          mblogger      soa  min/data               0.104167   \n",
       "11          mblogger      soa   data/ml               0.279245   \n",
       "16   ride_allocation      soa  min/data               0.215247   \n",
       "17   ride_allocation      soa   data/ml               0.099631   \n",
       "\n",
       "    Halstead Volume  Halstead Effort  Number of Words  Halstead Difficulty  \\\n",
       "1          0.122808         0.119183         0.151300            -0.020050   \n",
       "2         -0.109376        -0.014747         0.154004             0.657738   \n",
       "7          0.749793         1.624690         0.340265             1.000000   \n",
       "8          0.365313         0.397064         0.231312             0.069767   \n",
       "13         0.223463         0.451884         0.207113             1.094453   \n",
       "14         0.148057         0.157376         0.126516             0.056465   \n",
       "4          0.209862         0.411505         0.139854             1.000000   \n",
       "5          0.457239         0.478358         0.209302             0.101449   \n",
       "10         0.000000         0.000000         0.141717             0.000000   \n",
       "11         0.362758         0.362758         0.270979             0.000000   \n",
       "16         0.158409         0.277145         0.204927             0.492901   \n",
       "17         0.098153         0.212133         0.081340             0.550276   \n",
       "\n",
       "    Maintainability Index  Cyclomatic Complexity avg  \\\n",
       "1                   -2.50                    0.19022   \n",
       "2                    1.05                    0.16912   \n",
       "7                   -7.54                    0.23267   \n",
       "8                   -4.28                   -0.02530   \n",
       "13                  -4.47                    0.27290   \n",
       "14                  -2.71                    0.02339   \n",
       "4                   -2.03                    0.05303   \n",
       "5                   -5.70                   -0.03205   \n",
       "10                  -1.82                    0.00000   \n",
       "11                  -4.93                   -0.01667   \n",
       "16                  -3.87                   -0.07440   \n",
       "17                  -2.45                    0.03463   \n",
       "\n",
       "    Cyclomatic Complexity p99  Cognitive Complexity avg  \\\n",
       "1                         2.0                  0.232901   \n",
       "2                        -2.0                  0.261776   \n",
       "7                         2.0                  0.254808   \n",
       "8                         0.0                 -0.009868   \n",
       "13                        0.0                  0.653398   \n",
       "14                        0.0                  0.009760   \n",
       "4                         0.0                  0.009800   \n",
       "5                         0.0                  0.310710   \n",
       "10                        0.0                 -0.009530   \n",
       "11                        0.0                 -0.025220   \n",
       "16                        1.0                  0.026260   \n",
       "17                        0.0                  0.113100   \n",
       "\n",
       "    Cognitive Complexity p99  \n",
       "1                        1.0  \n",
       "2                        2.0  \n",
       "7                        2.0  \n",
       "8                        0.0  \n",
       "13                       6.0  \n",
       "14                       0.0  \n",
       "4                        0.0  \n",
       "5                        5.0  \n",
       "10                       0.0  \n",
       "11                       1.0  \n",
       "16                       0.0  \n",
       "17                       0.0  "
      ]
     },
     "execution_count": 7,
     "metadata": {},
     "output_type": "execute_result"
    }
   ],
   "source": [
    "all_dfs = []\n",
    "\n",
    "for i in range(0, df.shape[0], 3):\n",
    "    df_change = pd.concat([\n",
    "        df.iloc[i:i+3, 2:][percentage_diff_metrics].pct_change(),\n",
    "        df.iloc[i:i+3, 2:][absolute_diff_metrics].diff(),\n",
    "    ], axis=1)\n",
    "    df_change.insert(0, \"App\", df[\"App\"])\n",
    "    df_change = df_change.iloc[1: , :]\n",
    "    df_change.insert(1, \"Keys\", [\"min/data\", \"data/ml\"])\n",
    "    all_dfs.append(df_change)\n",
    "\n",
    "fbp_dfs = [all_dfs[0], all_dfs[2], all_dfs[4]]\n",
    "soa_dfs = [all_dfs[1], all_dfs[3], all_dfs[5]]\n",
    "    \n",
    "for fbp_df in fbp_dfs:\n",
    "    fbp_df.insert(1, \"Paradigm\", [\"fbp\", \"fbp\"])\n",
    "for soa_df in soa_dfs:\n",
    "    soa_df.insert(1, \"Paradigm\", [\"soa\", \"soa\"])\n",
    "\n",
    "all_changes_df = pd.concat(fbp_dfs + soa_dfs, axis=0)\n",
    "all_changes_df"
   ]
  },
  {
   "cell_type": "markdown",
   "id": "f4a0e3f2",
   "metadata": {},
   "source": [
    "In the resulting dataframe columns contain measured changes for different apps. \"Keys\" column signifies which pair is considered. E.g. \"min/data\" means that changes are measured for transition between \"min\" and \"data\" stages."
   ]
  },
  {
   "cell_type": "code",
   "execution_count": 8,
   "id": "d41ebd1b",
   "metadata": {},
   "outputs": [
    {
     "name": "stdout",
     "output_type": "stream",
     "text": [
      "['Logical Lines of Code', 'Halstead Volume', 'Halstead Difficulty', 'Halstead Effort', 'Maintainability Index', 'Cyclomatic Complexity avg', 'Cyclomatic Complexity p99', 'Cognitive Complexity avg', 'Cognitive Complexity p99', 'Number of Words']\n"
     ]
    },
    {
     "data": {
      "image/png": "[encoded data removed]",
      "text/plain": [
       "<Figure size 864x648 with 30 Axes>"
      ]
     },
     "metadata": {
      "needs_background": "light"
     },
     "output_type": "display_data"
    }
   ],
   "source": [
    "apps = all_changes_df[\"App\"].unique().tolist()\n",
    "metrics = df.columns[2:].tolist()\n",
    "\n",
    "print(metrics)\n",
    "\n",
    "fig, axes = plt.subplots(nrows=len(metrics), ncols=len(apps), figsize=(12, 9))\n",
    "\n",
    "for ax, app in zip(axes[0], apps):\n",
    "    ax.set_title(app);\n",
    "\n",
    "for ax, metric in zip(axes[:,0], metrics):\n",
    "    ax.set_ylabel(metric.replace(' ', \"\\n\"), size=10);\n",
    "\n",
    "for ir, metric in enumerate(metrics):\n",
    "    for ic, app in enumerate(apps):\n",
    "        values = all_changes_df[all_changes_df[\"App\"] == app][[\"Paradigm\", \"Keys\", metric]]\n",
    "        values_fbp = values.loc[values['Paradigm'].isin(['fbp'])]\n",
    "        values_soa = values.loc[values['Paradigm'].isin(['soa'])]\n",
    "        labels = [k[k.rfind('_')+1:] for k in values_fbp[\"Paradigm\"]]\n",
    "        X = np.arange(len(values_fbp))\n",
    "        colors = ['b' if k == 'fbp' else 'r' for k in values[\"Paradigm\"]]\n",
    "        labels = values_fbp[\"Keys\"]\n",
    "        axes[ir][ic].bar(\n",
    "            X, values_fbp[metric], width=0.25,\n",
    "            tick_label=labels, align='center', color='b'\n",
    "        );\n",
    "        axes[ir][ic].bar(\n",
    "            X+0.25, values_soa[metric], width=0.25,\n",
    "            tick_label=labels, align='center', color='r'\n",
    "        );\n",
    "\n",
    "fig.tight_layout();\n",
    "\n",
    "\n",
    "legend_elements = [Line2D([0], [0], color='b', label='FBP'),\n",
    "                   Line2D([0], [0], color='r', label='SOA')]\n",
    "\n",
    "fig.legend(handles=legend_elements, loc='upper left')\n",
    "\n",
    "plt.show();"
   ]
  },
  {
   "cell_type": "markdown",
   "id": "8adc135d",
   "metadata": {},
   "source": [
    "Let's look at individual stages, or rather pairs of stages."
   ]
  },
  {
   "cell_type": "code",
   "execution_count": 9,
   "id": "9af17645",
   "metadata": {},
   "outputs": [],
   "source": [
    "min_data_changes_df = all_changes_df[all_changes_df[\"Keys\"] == 'min/data']\n",
    "data_ml_changes_df = all_changes_df[all_changes_df[\"Keys\"] == 'data/ml']"
   ]
  },
  {
   "cell_type": "code",
   "execution_count": 10,
   "id": "3e8844ed",
   "metadata": {},
   "outputs": [
    {
     "data": {
      "text/html": [
       "<div>\n",
       "<style scoped>\n",
       "    .dataframe tbody tr th:only-of-type {\n",
       "        vertical-align: middle;\n",
       "    }\n",
       "\n",
       "    .dataframe tbody tr th {\n",
       "        vertical-align: top;\n",
       "    }\n",
       "\n",
       "    .dataframe thead th {\n",
       "        text-align: right;\n",
       "    }\n",
       "</style>\n",
       "<table border=\"1\" class=\"dataframe\">\n",
       "  <thead>\n",
       "    <tr style=\"text-align: right;\">\n",
       "      <th></th>\n",
       "      <th>App</th>\n",
       "      <th>Paradigm</th>\n",
       "      <th>Keys</th>\n",
       "      <th>Logical Lines of Code</th>\n",
       "      <th>Halstead Volume</th>\n",
       "      <th>Halstead Effort</th>\n",
       "      <th>Number of Words</th>\n",
       "      <th>Halstead Difficulty</th>\n",
       "      <th>Maintainability Index</th>\n",
       "      <th>Cyclomatic Complexity avg</th>\n",
       "      <th>Cyclomatic Complexity p99</th>\n",
       "      <th>Cognitive Complexity avg</th>\n",
       "      <th>Cognitive Complexity p99</th>\n",
       "    </tr>\n",
       "  </thead>\n",
       "  <tbody>\n",
       "    <tr>\n",
       "      <th>1</th>\n",
       "      <td>insurance_claims</td>\n",
       "      <td>fbp</td>\n",
       "      <td>min/data</td>\n",
       "      <td>0.138095</td>\n",
       "      <td>0.122808</td>\n",
       "      <td>0.119183</td>\n",
       "      <td>0.151300</td>\n",
       "      <td>-0.020050</td>\n",
       "      <td>-2.50</td>\n",
       "      <td>0.19022</td>\n",
       "      <td>2.0</td>\n",
       "      <td>0.232901</td>\n",
       "      <td>1.0</td>\n",
       "    </tr>\n",
       "    <tr>\n",
       "      <th>7</th>\n",
       "      <td>mblogger</td>\n",
       "      <td>fbp</td>\n",
       "      <td>min/data</td>\n",
       "      <td>0.308140</td>\n",
       "      <td>0.749793</td>\n",
       "      <td>1.624690</td>\n",
       "      <td>0.340265</td>\n",
       "      <td>1.000000</td>\n",
       "      <td>-7.54</td>\n",
       "      <td>0.23267</td>\n",
       "      <td>2.0</td>\n",
       "      <td>0.254808</td>\n",
       "      <td>2.0</td>\n",
       "    </tr>\n",
       "    <tr>\n",
       "      <th>13</th>\n",
       "      <td>ride_allocation</td>\n",
       "      <td>fbp</td>\n",
       "      <td>min/data</td>\n",
       "      <td>0.171533</td>\n",
       "      <td>0.223463</td>\n",
       "      <td>0.451884</td>\n",
       "      <td>0.207113</td>\n",
       "      <td>1.094453</td>\n",
       "      <td>-4.47</td>\n",
       "      <td>0.27290</td>\n",
       "      <td>0.0</td>\n",
       "      <td>0.653398</td>\n",
       "      <td>6.0</td>\n",
       "    </tr>\n",
       "    <tr>\n",
       "      <th>4</th>\n",
       "      <td>insurance_claims</td>\n",
       "      <td>soa</td>\n",
       "      <td>min/data</td>\n",
       "      <td>0.140000</td>\n",
       "      <td>0.209862</td>\n",
       "      <td>0.411505</td>\n",
       "      <td>0.139854</td>\n",
       "      <td>1.000000</td>\n",
       "      <td>-2.03</td>\n",
       "      <td>0.05303</td>\n",
       "      <td>0.0</td>\n",
       "      <td>0.009800</td>\n",
       "      <td>0.0</td>\n",
       "    </tr>\n",
       "    <tr>\n",
       "      <th>10</th>\n",
       "      <td>mblogger</td>\n",
       "      <td>soa</td>\n",
       "      <td>min/data</td>\n",
       "      <td>0.104167</td>\n",
       "      <td>0.000000</td>\n",
       "      <td>0.000000</td>\n",
       "      <td>0.141717</td>\n",
       "      <td>0.000000</td>\n",
       "      <td>-1.82</td>\n",
       "      <td>0.00000</td>\n",
       "      <td>0.0</td>\n",
       "      <td>-0.009530</td>\n",
       "      <td>0.0</td>\n",
       "    </tr>\n",
       "    <tr>\n",
       "      <th>16</th>\n",
       "      <td>ride_allocation</td>\n",
       "      <td>soa</td>\n",
       "      <td>min/data</td>\n",
       "      <td>0.215247</td>\n",
       "      <td>0.158409</td>\n",
       "      <td>0.277145</td>\n",
       "      <td>0.204927</td>\n",
       "      <td>0.492901</td>\n",
       "      <td>-3.87</td>\n",
       "      <td>-0.07440</td>\n",
       "      <td>1.0</td>\n",
       "      <td>0.026260</td>\n",
       "      <td>0.0</td>\n",
       "    </tr>\n",
       "  </tbody>\n",
       "</table>\n",
       "</div>"
      ],
      "text/plain": [
       "                 App Paradigm      Keys  Logical Lines of Code  \\\n",
       "1   insurance_claims      fbp  min/data               0.138095   \n",
       "7           mblogger      fbp  min/data               0.308140   \n",
       "13   ride_allocation      fbp  min/data               0.171533   \n",
       "4   insurance_claims      soa  min/data               0.140000   \n",
       "10          mblogger      soa  min/data               0.104167   \n",
       "16   ride_allocation      soa  min/data               0.215247   \n",
       "\n",
       "    Halstead Volume  Halstead Effort  Number of Words  Halstead Difficulty  \\\n",
       "1          0.122808         0.119183         0.151300            -0.020050   \n",
       "7          0.749793         1.624690         0.340265             1.000000   \n",
       "13         0.223463         0.451884         0.207113             1.094453   \n",
       "4          0.209862         0.411505         0.139854             1.000000   \n",
       "10         0.000000         0.000000         0.141717             0.000000   \n",
       "16         0.158409         0.277145         0.204927             0.492901   \n",
       "\n",
       "    Maintainability Index  Cyclomatic Complexity avg  \\\n",
       "1                   -2.50                    0.19022   \n",
       "7                   -7.54                    0.23267   \n",
       "13                  -4.47                    0.27290   \n",
       "4                   -2.03                    0.05303   \n",
       "10                  -1.82                    0.00000   \n",
       "16                  -3.87                   -0.07440   \n",
       "\n",
       "    Cyclomatic Complexity p99  Cognitive Complexity avg  \\\n",
       "1                         2.0                  0.232901   \n",
       "7                         2.0                  0.254808   \n",
       "13                        0.0                  0.653398   \n",
       "4                         0.0                  0.009800   \n",
       "10                        0.0                 -0.009530   \n",
       "16                        1.0                  0.026260   \n",
       "\n",
       "    Cognitive Complexity p99  \n",
       "1                        1.0  \n",
       "7                        2.0  \n",
       "13                       6.0  \n",
       "4                        0.0  \n",
       "10                       0.0  \n",
       "16                       0.0  "
      ]
     },
     "execution_count": 10,
     "metadata": {},
     "output_type": "execute_result"
    }
   ],
   "source": [
    "min_data_changes_df"
   ]
  },
  {
   "cell_type": "code",
   "execution_count": 11,
   "id": "fdf65157",
   "metadata": {
    "scrolled": true
   },
   "outputs": [
    {
     "data": {
      "text/html": [
       "<div>\n",
       "<style scoped>\n",
       "    .dataframe tbody tr th:only-of-type {\n",
       "        vertical-align: middle;\n",
       "    }\n",
       "\n",
       "    .dataframe tbody tr th {\n",
       "        vertical-align: top;\n",
       "    }\n",
       "\n",
       "    .dataframe thead th {\n",
       "        text-align: right;\n",
       "    }\n",
       "</style>\n",
       "<table border=\"1\" class=\"dataframe\">\n",
       "  <thead>\n",
       "    <tr style=\"text-align: right;\">\n",
       "      <th></th>\n",
       "      <th>App</th>\n",
       "      <th>Paradigm</th>\n",
       "      <th>Keys</th>\n",
       "      <th>Logical Lines of Code</th>\n",
       "      <th>Halstead Volume</th>\n",
       "      <th>Halstead Effort</th>\n",
       "      <th>Number of Words</th>\n",
       "      <th>Halstead Difficulty</th>\n",
       "      <th>Maintainability Index</th>\n",
       "      <th>Cyclomatic Complexity avg</th>\n",
       "      <th>Cyclomatic Complexity p99</th>\n",
       "      <th>Cognitive Complexity avg</th>\n",
       "      <th>Cognitive Complexity p99</th>\n",
       "    </tr>\n",
       "  </thead>\n",
       "  <tbody>\n",
       "    <tr>\n",
       "      <th>2</th>\n",
       "      <td>insurance_claims</td>\n",
       "      <td>fbp</td>\n",
       "      <td>data/ml</td>\n",
       "      <td>0.100418</td>\n",
       "      <td>-0.109376</td>\n",
       "      <td>-0.014747</td>\n",
       "      <td>0.154004</td>\n",
       "      <td>0.657738</td>\n",
       "      <td>1.05</td>\n",
       "      <td>0.16912</td>\n",
       "      <td>-2.0</td>\n",
       "      <td>0.261776</td>\n",
       "      <td>2.0</td>\n",
       "    </tr>\n",
       "    <tr>\n",
       "      <th>8</th>\n",
       "      <td>mblogger</td>\n",
       "      <td>fbp</td>\n",
       "      <td>data/ml</td>\n",
       "      <td>0.226667</td>\n",
       "      <td>0.365313</td>\n",
       "      <td>0.397064</td>\n",
       "      <td>0.231312</td>\n",
       "      <td>0.069767</td>\n",
       "      <td>-4.28</td>\n",
       "      <td>-0.02530</td>\n",
       "      <td>0.0</td>\n",
       "      <td>-0.009868</td>\n",
       "      <td>0.0</td>\n",
       "    </tr>\n",
       "    <tr>\n",
       "      <th>14</th>\n",
       "      <td>ride_allocation</td>\n",
       "      <td>fbp</td>\n",
       "      <td>data/ml</td>\n",
       "      <td>0.121495</td>\n",
       "      <td>0.148057</td>\n",
       "      <td>0.157376</td>\n",
       "      <td>0.126516</td>\n",
       "      <td>0.056465</td>\n",
       "      <td>-2.71</td>\n",
       "      <td>0.02339</td>\n",
       "      <td>0.0</td>\n",
       "      <td>0.009760</td>\n",
       "      <td>0.0</td>\n",
       "    </tr>\n",
       "    <tr>\n",
       "      <th>5</th>\n",
       "      <td>insurance_claims</td>\n",
       "      <td>soa</td>\n",
       "      <td>data/ml</td>\n",
       "      <td>0.249123</td>\n",
       "      <td>0.457239</td>\n",
       "      <td>0.478358</td>\n",
       "      <td>0.209302</td>\n",
       "      <td>0.101449</td>\n",
       "      <td>-5.70</td>\n",
       "      <td>-0.03205</td>\n",
       "      <td>0.0</td>\n",
       "      <td>0.310710</td>\n",
       "      <td>5.0</td>\n",
       "    </tr>\n",
       "    <tr>\n",
       "      <th>11</th>\n",
       "      <td>mblogger</td>\n",
       "      <td>soa</td>\n",
       "      <td>data/ml</td>\n",
       "      <td>0.279245</td>\n",
       "      <td>0.362758</td>\n",
       "      <td>0.362758</td>\n",
       "      <td>0.270979</td>\n",
       "      <td>0.000000</td>\n",
       "      <td>-4.93</td>\n",
       "      <td>-0.01667</td>\n",
       "      <td>0.0</td>\n",
       "      <td>-0.025220</td>\n",
       "      <td>1.0</td>\n",
       "    </tr>\n",
       "    <tr>\n",
       "      <th>17</th>\n",
       "      <td>ride_allocation</td>\n",
       "      <td>soa</td>\n",
       "      <td>data/ml</td>\n",
       "      <td>0.099631</td>\n",
       "      <td>0.098153</td>\n",
       "      <td>0.212133</td>\n",
       "      <td>0.081340</td>\n",
       "      <td>0.550276</td>\n",
       "      <td>-2.45</td>\n",
       "      <td>0.03463</td>\n",
       "      <td>0.0</td>\n",
       "      <td>0.113100</td>\n",
       "      <td>0.0</td>\n",
       "    </tr>\n",
       "  </tbody>\n",
       "</table>\n",
       "</div>"
      ],
      "text/plain": [
       "                 App Paradigm     Keys  Logical Lines of Code  \\\n",
       "2   insurance_claims      fbp  data/ml               0.100418   \n",
       "8           mblogger      fbp  data/ml               0.226667   \n",
       "14   ride_allocation      fbp  data/ml               0.121495   \n",
       "5   insurance_claims      soa  data/ml               0.249123   \n",
       "11          mblogger      soa  data/ml               0.279245   \n",
       "17   ride_allocation      soa  data/ml               0.099631   \n",
       "\n",
       "    Halstead Volume  Halstead Effort  Number of Words  Halstead Difficulty  \\\n",
       "2         -0.109376        -0.014747         0.154004             0.657738   \n",
       "8          0.365313         0.397064         0.231312             0.069767   \n",
       "14         0.148057         0.157376         0.126516             0.056465   \n",
       "5          0.457239         0.478358         0.209302             0.101449   \n",
       "11         0.362758         0.362758         0.270979             0.000000   \n",
       "17         0.098153         0.212133         0.081340             0.550276   \n",
       "\n",
       "    Maintainability Index  Cyclomatic Complexity avg  \\\n",
       "2                    1.05                    0.16912   \n",
       "8                   -4.28                   -0.02530   \n",
       "14                  -2.71                    0.02339   \n",
       "5                   -5.70                   -0.03205   \n",
       "11                  -4.93                   -0.01667   \n",
       "17                  -2.45                    0.03463   \n",
       "\n",
       "    Cyclomatic Complexity p99  Cognitive Complexity avg  \\\n",
       "2                        -2.0                  0.261776   \n",
       "8                         0.0                 -0.009868   \n",
       "14                        0.0                  0.009760   \n",
       "5                         0.0                  0.310710   \n",
       "11                        0.0                 -0.025220   \n",
       "17                        0.0                  0.113100   \n",
       "\n",
       "    Cognitive Complexity p99  \n",
       "2                        2.0  \n",
       "8                        0.0  \n",
       "14                       0.0  \n",
       "5                        5.0  \n",
       "11                       1.0  \n",
       "17                       0.0  "
      ]
     },
     "execution_count": 11,
     "metadata": {},
     "output_type": "execute_result"
    }
   ],
   "source": [
    "data_ml_changes_df"
   ]
  },
  {
   "cell_type": "markdown",
   "id": "bac93c61",
   "metadata": {},
   "source": [
    "Let's try to put absolute and relative plots together."
   ]
  },
  {
   "cell_type": "code",
   "execution_count": 12,
   "id": "2e62db93",
   "metadata": {},
   "outputs": [
    {
     "data": {
      "text/plain": [
       "<BarContainer object of 3 artists>"
      ]
     },
     "execution_count": 12,
     "metadata": {},
     "output_type": "execute_result"
    },
    {
     "data": {
      "text/plain": [
       "<BarContainer object of 3 artists>"
      ]
     },
     "execution_count": 12,
     "metadata": {},
     "output_type": "execute_result"
    },
    {
     "data": {
      "text/plain": [
       "Text(0, 0.5, 'Logical Lines of Code\\n(Absolute Values)')"
      ]
     },
     "execution_count": 12,
     "metadata": {},
     "output_type": "execute_result"
    },
    {
     "data": {
      "text/plain": [
       "Text(0.5, 1.0, 'Insurance Claims')"
      ]
     },
     "execution_count": 12,
     "metadata": {},
     "output_type": "execute_result"
    },
    {
     "data": {
      "text/plain": [
       "<matplotlib.legend.Legend at 0x7f9453e6deb0>"
      ]
     },
     "execution_count": 12,
     "metadata": {},
     "output_type": "execute_result"
    },
    {
     "data": {
      "text/plain": [
       "<BarContainer object of 2 artists>"
      ]
     },
     "execution_count": 12,
     "metadata": {},
     "output_type": "execute_result"
    },
    {
     "data": {
      "text/plain": [
       "<BarContainer object of 2 artists>"
      ]
     },
     "execution_count": 12,
     "metadata": {},
     "output_type": "execute_result"
    },
    {
     "data": {
      "text/plain": [
       "Text(0, 0.5, 'Logical Lines of Code\\n(Relative Difference)')"
      ]
     },
     "execution_count": 12,
     "metadata": {},
     "output_type": "execute_result"
    },
    {
     "data": {
      "text/plain": [
       "Text(0.5, 1.0, 'Insurance Claims')"
      ]
     },
     "execution_count": 12,
     "metadata": {},
     "output_type": "execute_result"
    },
    {
     "data": {
      "text/plain": [
       "<matplotlib.legend.Legend at 0x7f9453b3d2e0>"
      ]
     },
     "execution_count": 12,
     "metadata": {},
     "output_type": "execute_result"
    },
    {
     "data": {
      "text/plain": [
       "<BarContainer object of 3 artists>"
      ]
     },
     "execution_count": 12,
     "metadata": {},
     "output_type": "execute_result"
    },
    {
     "data": {
      "text/plain": [
       "<BarContainer object of 3 artists>"
      ]
     },
     "execution_count": 12,
     "metadata": {},
     "output_type": "execute_result"
    },
    {
     "data": {
      "text/plain": [
       "Text(0, 0.5, 'Logical Lines of Code\\n(Absolute Values)')"
      ]
     },
     "execution_count": 12,
     "metadata": {},
     "output_type": "execute_result"
    },
    {
     "data": {
      "text/plain": [
       "Text(0.5, 1.0, 'Mblogger')"
      ]
     },
     "execution_count": 12,
     "metadata": {},
     "output_type": "execute_result"
    },
    {
     "data": {
      "text/plain": [
       "<matplotlib.legend.Legend at 0x7f9453b3d4f0>"
      ]
     },
     "execution_count": 12,
     "metadata": {},
     "output_type": "execute_result"
    },
    {
     "data": {
      "text/plain": [
       "<BarContainer object of 2 artists>"
      ]
     },
     "execution_count": 12,
     "metadata": {},
     "output_type": "execute_result"
    },
    {
     "data": {
      "text/plain": [
       "<BarContainer object of 2 artists>"
      ]
     },
     "execution_count": 12,
     "metadata": {},
     "output_type": "execute_result"
    },
    {
     "data": {
      "text/plain": [
       "Text(0, 0.5, 'Logical Lines of Code\\n(Relative Difference)')"
      ]
     },
     "execution_count": 12,
     "metadata": {},
     "output_type": "execute_result"
    },
    {
     "data": {
      "text/plain": [
       "Text(0.5, 1.0, 'Mblogger')"
      ]
     },
     "execution_count": 12,
     "metadata": {},
     "output_type": "execute_result"
    },
    {
     "data": {
      "text/plain": [
       "<matplotlib.legend.Legend at 0x7f9453b70dc0>"
      ]
     },
     "execution_count": 12,
     "metadata": {},
     "output_type": "execute_result"
    },
    {
     "data": {
      "text/plain": [
       "<BarContainer object of 3 artists>"
      ]
     },
     "execution_count": 12,
     "metadata": {},
     "output_type": "execute_result"
    },
    {
     "data": {
      "text/plain": [
       "<BarContainer object of 3 artists>"
      ]
     },
     "execution_count": 12,
     "metadata": {},
     "output_type": "execute_result"
    },
    {
     "data": {
      "text/plain": [
       "Text(0, 0.5, 'Logical Lines of Code\\n(Absolute Values)')"
      ]
     },
     "execution_count": 12,
     "metadata": {},
     "output_type": "execute_result"
    },
    {
     "data": {
      "text/plain": [
       "Text(0.5, 1.0, 'Ride Allocation')"
      ]
     },
     "execution_count": 12,
     "metadata": {},
     "output_type": "execute_result"
    },
    {
     "data": {
      "text/plain": [
       "<matplotlib.legend.Legend at 0x7f94539bbe50>"
      ]
     },
     "execution_count": 12,
     "metadata": {},
     "output_type": "execute_result"
    },
    {
     "data": {
      "text/plain": [
       "<BarContainer object of 2 artists>"
      ]
     },
     "execution_count": 12,
     "metadata": {},
     "output_type": "execute_result"
    },
    {
     "data": {
      "text/plain": [
       "<BarContainer object of 2 artists>"
      ]
     },
     "execution_count": 12,
     "metadata": {},
     "output_type": "execute_result"
    },
    {
     "data": {
      "text/plain": [
       "Text(0, 0.5, 'Logical Lines of Code\\n(Relative Difference)')"
      ]
     },
     "execution_count": 12,
     "metadata": {},
     "output_type": "execute_result"
    },
    {
     "data": {
      "text/plain": [
       "Text(0.5, 1.0, 'Ride Allocation')"
      ]
     },
     "execution_count": 12,
     "metadata": {},
     "output_type": "execute_result"
    },
    {
     "data": {
      "text/plain": [
       "<matplotlib.legend.Legend at 0x7f9453aab550>"
      ]
     },
     "execution_count": 12,
     "metadata": {},
     "output_type": "execute_result"
    },
    {
     "name": "stderr",
     "output_type": "stream",
     "text": [
      "findfont: Font family ['Times New Roman'] not found. Falling back to DejaVu Sans.\n",
      "findfont: Font family ['Times New Roman'] not found. Falling back to DejaVu Sans.\n"
     ]
    },
    {
     "data": {
      "image/png": "[encoded data removed]",
      "text/plain": [
       "<Figure size 864x648 with 6 Axes>"
      ]
     },
     "metadata": {
      "needs_background": "light"
     },
     "output_type": "display_data"
    },
    {
     "data": {
      "text/plain": [
       "<BarContainer object of 3 artists>"
      ]
     },
     "execution_count": 12,
     "metadata": {},
     "output_type": "execute_result"
    },
    {
     "data": {
      "text/plain": [
       "<BarContainer object of 3 artists>"
      ]
     },
     "execution_count": 12,
     "metadata": {},
     "output_type": "execute_result"
    },
    {
     "data": {
      "text/plain": [
       "Text(0, 0.5, 'Halstead Volume\\n(Absolute Values)')"
      ]
     },
     "execution_count": 12,
     "metadata": {},
     "output_type": "execute_result"
    },
    {
     "data": {
      "text/plain": [
       "Text(0.5, 1.0, 'Insurance Claims')"
      ]
     },
     "execution_count": 12,
     "metadata": {},
     "output_type": "execute_result"
    },
    {
     "data": {
      "text/plain": [
       "<matplotlib.legend.Legend at 0x7f94539bb9a0>"
      ]
     },
     "execution_count": 12,
     "metadata": {},
     "output_type": "execute_result"
    },
    {
     "data": {
      "text/plain": [
       "<BarContainer object of 2 artists>"
      ]
     },
     "execution_count": 12,
     "metadata": {},
     "output_type": "execute_result"
    },
    {
     "data": {
      "text/plain": [
       "<BarContainer object of 2 artists>"
      ]
     },
     "execution_count": 12,
     "metadata": {},
     "output_type": "execute_result"
    },
    {
     "data": {
      "text/plain": [
       "Text(0, 0.5, 'Halstead Volume\\n(Relative Difference)')"
      ]
     },
     "execution_count": 12,
     "metadata": {},
     "output_type": "execute_result"
    },
    {
     "data": {
      "text/plain": [
       "Text(0.5, 1.0, 'Insurance Claims')"
      ]
     },
     "execution_count": 12,
     "metadata": {},
     "output_type": "execute_result"
    },
    {
     "data": {
      "text/plain": [
       "<matplotlib.legend.Legend at 0x7f9454830cd0>"
      ]
     },
     "execution_count": 12,
     "metadata": {},
     "output_type": "execute_result"
    },
    {
     "data": {
      "text/plain": [
       "<BarContainer object of 3 artists>"
      ]
     },
     "execution_count": 12,
     "metadata": {},
     "output_type": "execute_result"
    },
    {
     "data": {
      "text/plain": [
       "<BarContainer object of 3 artists>"
      ]
     },
     "execution_count": 12,
     "metadata": {},
     "output_type": "execute_result"
    },
    {
     "data": {
      "text/plain": [
       "Text(0, 0.5, 'Halstead Volume\\n(Absolute Values)')"
      ]
     },
     "execution_count": 12,
     "metadata": {},
     "output_type": "execute_result"
    },
    {
     "data": {
      "text/plain": [
       "Text(0.5, 1.0, 'Mblogger')"
      ]
     },
     "execution_count": 12,
     "metadata": {},
     "output_type": "execute_result"
    },
    {
     "data": {
      "text/plain": [
       "<matplotlib.legend.Legend at 0x7f9454830130>"
      ]
     },
     "execution_count": 12,
     "metadata": {},
     "output_type": "execute_result"
    },
    {
     "data": {
      "text/plain": [
       "<BarContainer object of 2 artists>"
      ]
     },
     "execution_count": 12,
     "metadata": {},
     "output_type": "execute_result"
    },
    {
     "data": {
      "text/plain": [
       "<BarContainer object of 2 artists>"
      ]
     },
     "execution_count": 12,
     "metadata": {},
     "output_type": "execute_result"
    },
    {
     "data": {
      "text/plain": [
       "Text(0, 0.5, 'Halstead Volume\\n(Relative Difference)')"
      ]
     },
     "execution_count": 12,
     "metadata": {},
     "output_type": "execute_result"
    },
    {
     "data": {
      "text/plain": [
       "Text(0.5, 1.0, 'Mblogger')"
      ]
     },
     "execution_count": 12,
     "metadata": {},
     "output_type": "execute_result"
    },
    {
     "data": {
      "text/plain": [
       "<matplotlib.legend.Legend at 0x7f9454891b20>"
      ]
     },
     "execution_count": 12,
     "metadata": {},
     "output_type": "execute_result"
    },
    {
     "data": {
      "text/plain": [
       "<BarContainer object of 3 artists>"
      ]
     },
     "execution_count": 12,
     "metadata": {},
     "output_type": "execute_result"
    },
    {
     "data": {
      "text/plain": [
       "<BarContainer object of 3 artists>"
      ]
     },
     "execution_count": 12,
     "metadata": {},
     "output_type": "execute_result"
    },
    {
     "data": {
      "text/plain": [
       "Text(0, 0.5, 'Halstead Volume\\n(Absolute Values)')"
      ]
     },
     "execution_count": 12,
     "metadata": {},
     "output_type": "execute_result"
    },
    {
     "data": {
      "text/plain": [
       "Text(0.5, 1.0, 'Ride Allocation')"
      ]
     },
     "execution_count": 12,
     "metadata": {},
     "output_type": "execute_result"
    },
    {
     "data": {
      "text/plain": [
       "<matplotlib.legend.Legend at 0x7f9454891970>"
      ]
     },
     "execution_count": 12,
     "metadata": {},
     "output_type": "execute_result"
    },
    {
     "data": {
      "text/plain": [
       "<BarContainer object of 2 artists>"
      ]
     },
     "execution_count": 12,
     "metadata": {},
     "output_type": "execute_result"
    },
    {
     "data": {
      "text/plain": [
       "<BarContainer object of 2 artists>"
      ]
     },
     "execution_count": 12,
     "metadata": {},
     "output_type": "execute_result"
    },
    {
     "data": {
      "text/plain": [
       "Text(0, 0.5, 'Halstead Volume\\n(Relative Difference)')"
      ]
     },
     "execution_count": 12,
     "metadata": {},
     "output_type": "execute_result"
    },
    {
     "data": {
      "text/plain": [
       "Text(0.5, 1.0, 'Ride Allocation')"
      ]
     },
     "execution_count": 12,
     "metadata": {},
     "output_type": "execute_result"
    },
    {
     "data": {
      "text/plain": [
       "<matplotlib.legend.Legend at 0x7f945486b820>"
      ]
     },
     "execution_count": 12,
     "metadata": {},
     "output_type": "execute_result"
    },
    {
     "data": {
      "image/png": "[encoded data removed]",
      "text/plain": [
       "<Figure size 864x648 with 6 Axes>"
      ]
     },
     "metadata": {
      "needs_background": "light"
     },
     "output_type": "display_data"
    },
    {
     "data": {
      "text/plain": [
       "<BarContainer object of 3 artists>"
      ]
     },
     "execution_count": 12,
     "metadata": {},
     "output_type": "execute_result"
    },
    {
     "data": {
      "text/plain": [
       "<BarContainer object of 3 artists>"
      ]
     },
     "execution_count": 12,
     "metadata": {},
     "output_type": "execute_result"
    },
    {
     "data": {
      "text/plain": [
       "Text(0, 0.5, 'Halstead Difficulty\\n(Absolute Values)')"
      ]
     },
     "execution_count": 12,
     "metadata": {},
     "output_type": "execute_result"
    },
    {
     "data": {
      "text/plain": [
       "Text(0.5, 1.0, 'Insurance Claims')"
      ]
     },
     "execution_count": 12,
     "metadata": {},
     "output_type": "execute_result"
    },
    {
     "data": {
      "text/plain": [
       "<matplotlib.legend.Legend at 0x7f945486b910>"
      ]
     },
     "execution_count": 12,
     "metadata": {},
     "output_type": "execute_result"
    },
    {
     "data": {
      "text/plain": [
       "<BarContainer object of 2 artists>"
      ]
     },
     "execution_count": 12,
     "metadata": {},
     "output_type": "execute_result"
    },
    {
     "data": {
      "text/plain": [
       "<BarContainer object of 2 artists>"
      ]
     },
     "execution_count": 12,
     "metadata": {},
     "output_type": "execute_result"
    },
    {
     "data": {
      "text/plain": [
       "Text(0, 0.5, 'Halstead Difficulty\\n(Relative Difference)')"
      ]
     },
     "execution_count": 12,
     "metadata": {},
     "output_type": "execute_result"
    },
    {
     "data": {
      "text/plain": [
       "Text(0.5, 1.0, 'Insurance Claims')"
      ]
     },
     "execution_count": 12,
     "metadata": {},
     "output_type": "execute_result"
    },
    {
     "data": {
      "text/plain": [
       "<matplotlib.legend.Legend at 0x7f945489e280>"
      ]
     },
     "execution_count": 12,
     "metadata": {},
     "output_type": "execute_result"
    },
    {
     "data": {
      "text/plain": [
       "<BarContainer object of 3 artists>"
      ]
     },
     "execution_count": 12,
     "metadata": {},
     "output_type": "execute_result"
    },
    {
     "data": {
      "text/plain": [
       "<BarContainer object of 3 artists>"
      ]
     },
     "execution_count": 12,
     "metadata": {},
     "output_type": "execute_result"
    },
    {
     "data": {
      "text/plain": [
       "Text(0, 0.5, 'Halstead Difficulty\\n(Absolute Values)')"
      ]
     },
     "execution_count": 12,
     "metadata": {},
     "output_type": "execute_result"
    },
    {
     "data": {
      "text/plain": [
       "Text(0.5, 1.0, 'Mblogger')"
      ]
     },
     "execution_count": 12,
     "metadata": {},
     "output_type": "execute_result"
    },
    {
     "data": {
      "text/plain": [
       "<matplotlib.legend.Legend at 0x7f945489e490>"
      ]
     },
     "execution_count": 12,
     "metadata": {},
     "output_type": "execute_result"
    },
    {
     "data": {
      "text/plain": [
       "<BarContainer object of 2 artists>"
      ]
     },
     "execution_count": 12,
     "metadata": {},
     "output_type": "execute_result"
    },
    {
     "data": {
      "text/plain": [
       "<BarContainer object of 2 artists>"
      ]
     },
     "execution_count": 12,
     "metadata": {},
     "output_type": "execute_result"
    },
    {
     "data": {
      "text/plain": [
       "Text(0, 0.5, 'Halstead Difficulty\\n(Relative Difference)')"
      ]
     },
     "execution_count": 12,
     "metadata": {},
     "output_type": "execute_result"
    },
    {
     "data": {
      "text/plain": [
       "Text(0.5, 1.0, 'Mblogger')"
      ]
     },
     "execution_count": 12,
     "metadata": {},
     "output_type": "execute_result"
    },
    {
     "data": {
      "text/plain": [
       "<matplotlib.legend.Legend at 0x7f94549007c0>"
      ]
     },
     "execution_count": 12,
     "metadata": {},
     "output_type": "execute_result"
    },
    {
     "data": {
      "text/plain": [
       "<BarContainer object of 3 artists>"
      ]
     },
     "execution_count": 12,
     "metadata": {},
     "output_type": "execute_result"
    },
    {
     "data": {
      "text/plain": [
       "<BarContainer object of 3 artists>"
      ]
     },
     "execution_count": 12,
     "metadata": {},
     "output_type": "execute_result"
    },
    {
     "data": {
      "text/plain": [
       "Text(0, 0.5, 'Halstead Difficulty\\n(Absolute Values)')"
      ]
     },
     "execution_count": 12,
     "metadata": {},
     "output_type": "execute_result"
    },
    {
     "data": {
      "text/plain": [
       "Text(0.5, 1.0, 'Ride Allocation')"
      ]
     },
     "execution_count": 12,
     "metadata": {},
     "output_type": "execute_result"
    },
    {
     "data": {
      "text/plain": [
       "<matplotlib.legend.Legend at 0x7f9454acb280>"
      ]
     },
     "execution_count": 12,
     "metadata": {},
     "output_type": "execute_result"
    },
    {
     "data": {
      "text/plain": [
       "<BarContainer object of 2 artists>"
      ]
     },
     "execution_count": 12,
     "metadata": {},
     "output_type": "execute_result"
    },
    {
     "data": {
      "text/plain": [
       "<BarContainer object of 2 artists>"
      ]
     },
     "execution_count": 12,
     "metadata": {},
     "output_type": "execute_result"
    },
    {
     "data": {
      "text/plain": [
       "Text(0, 0.5, 'Halstead Difficulty\\n(Relative Difference)')"
      ]
     },
     "execution_count": 12,
     "metadata": {},
     "output_type": "execute_result"
    },
    {
     "data": {
      "text/plain": [
       "Text(0.5, 1.0, 'Ride Allocation')"
      ]
     },
     "execution_count": 12,
     "metadata": {},
     "output_type": "execute_result"
    },
    {
     "data": {
      "text/plain": [
       "<matplotlib.legend.Legend at 0x7f94549744c0>"
      ]
     },
     "execution_count": 12,
     "metadata": {},
     "output_type": "execute_result"
    },
    {
     "data": {
      "image/png": "[encoded data removed]",
      "text/plain": [
       "<Figure size 864x648 with 6 Axes>"
      ]
     },
     "metadata": {
      "needs_background": "light"
     },
     "output_type": "display_data"
    },
    {
     "data": {
      "text/plain": [
       "<BarContainer object of 3 artists>"
      ]
     },
     "execution_count": 12,
     "metadata": {},
     "output_type": "execute_result"
    },
    {
     "data": {
      "text/plain": [
       "<BarContainer object of 3 artists>"
      ]
     },
     "execution_count": 12,
     "metadata": {},
     "output_type": "execute_result"
    },
    {
     "data": {
      "text/plain": [
       "Text(0, 0.5, 'Halstead Effort\\n(Absolute Values)')"
      ]
     },
     "execution_count": 12,
     "metadata": {},
     "output_type": "execute_result"
    },
    {
     "data": {
      "text/plain": [
       "Text(0.5, 1.0, 'Insurance Claims')"
      ]
     },
     "execution_count": 12,
     "metadata": {},
     "output_type": "execute_result"
    },
    {
     "data": {
      "text/plain": [
       "<matplotlib.legend.Legend at 0x7f94549746d0>"
      ]
     },
     "execution_count": 12,
     "metadata": {},
     "output_type": "execute_result"
    },
    {
     "data": {
      "text/plain": [
       "<BarContainer object of 2 artists>"
      ]
     },
     "execution_count": 12,
     "metadata": {},
     "output_type": "execute_result"
    },
    {
     "data": {
      "text/plain": [
       "<BarContainer object of 2 artists>"
      ]
     },
     "execution_count": 12,
     "metadata": {},
     "output_type": "execute_result"
    },
    {
     "data": {
      "text/plain": [
       "Text(0, 0.5, 'Halstead Effort\\n(Relative Difference)')"
      ]
     },
     "execution_count": 12,
     "metadata": {},
     "output_type": "execute_result"
    },
    {
     "data": {
      "text/plain": [
       "Text(0.5, 1.0, 'Insurance Claims')"
      ]
     },
     "execution_count": 12,
     "metadata": {},
     "output_type": "execute_result"
    },
    {
     "data": {
      "text/plain": [
       "<matplotlib.legend.Legend at 0x7f9454afcfd0>"
      ]
     },
     "execution_count": 12,
     "metadata": {},
     "output_type": "execute_result"
    },
    {
     "data": {
      "text/plain": [
       "<BarContainer object of 3 artists>"
      ]
     },
     "execution_count": 12,
     "metadata": {},
     "output_type": "execute_result"
    },
    {
     "data": {
      "text/plain": [
       "<BarContainer object of 3 artists>"
      ]
     },
     "execution_count": 12,
     "metadata": {},
     "output_type": "execute_result"
    },
    {
     "data": {
      "text/plain": [
       "Text(0, 0.5, 'Halstead Effort\\n(Absolute Values)')"
      ]
     },
     "execution_count": 12,
     "metadata": {},
     "output_type": "execute_result"
    },
    {
     "data": {
      "text/plain": [
       "Text(0.5, 1.0, 'Mblogger')"
      ]
     },
     "execution_count": 12,
     "metadata": {},
     "output_type": "execute_result"
    },
    {
     "data": {
      "text/plain": [
       "<matplotlib.legend.Legend at 0x7f9454f9b7c0>"
      ]
     },
     "execution_count": 12,
     "metadata": {},
     "output_type": "execute_result"
    },
    {
     "data": {
      "text/plain": [
       "<BarContainer object of 2 artists>"
      ]
     },
     "execution_count": 12,
     "metadata": {},
     "output_type": "execute_result"
    },
    {
     "data": {
      "text/plain": [
       "<BarContainer object of 2 artists>"
      ]
     },
     "execution_count": 12,
     "metadata": {},
     "output_type": "execute_result"
    },
    {
     "data": {
      "text/plain": [
       "Text(0, 0.5, 'Halstead Effort\\n(Relative Difference)')"
      ]
     },
     "execution_count": 12,
     "metadata": {},
     "output_type": "execute_result"
    },
    {
     "data": {
      "text/plain": [
       "Text(0.5, 1.0, 'Mblogger')"
      ]
     },
     "execution_count": 12,
     "metadata": {},
     "output_type": "execute_result"
    },
    {
     "data": {
      "text/plain": [
       "<matplotlib.legend.Legend at 0x7f9454c38760>"
      ]
     },
     "execution_count": 12,
     "metadata": {},
     "output_type": "execute_result"
    },
    {
     "data": {
      "text/plain": [
       "<BarContainer object of 3 artists>"
      ]
     },
     "execution_count": 12,
     "metadata": {},
     "output_type": "execute_result"
    },
    {
     "data": {
      "text/plain": [
       "<BarContainer object of 3 artists>"
      ]
     },
     "execution_count": 12,
     "metadata": {},
     "output_type": "execute_result"
    },
    {
     "data": {
      "text/plain": [
       "Text(0, 0.5, 'Halstead Effort\\n(Absolute Values)')"
      ]
     },
     "execution_count": 12,
     "metadata": {},
     "output_type": "execute_result"
    },
    {
     "data": {
      "text/plain": [
       "Text(0.5, 1.0, 'Ride Allocation')"
      ]
     },
     "execution_count": 12,
     "metadata": {},
     "output_type": "execute_result"
    },
    {
     "data": {
      "text/plain": [
       "<matplotlib.legend.Legend at 0x7f9454c38730>"
      ]
     },
     "execution_count": 12,
     "metadata": {},
     "output_type": "execute_result"
    },
    {
     "data": {
      "text/plain": [
       "<BarContainer object of 2 artists>"
      ]
     },
     "execution_count": 12,
     "metadata": {},
     "output_type": "execute_result"
    },
    {
     "data": {
      "text/plain": [
       "<BarContainer object of 2 artists>"
      ]
     },
     "execution_count": 12,
     "metadata": {},
     "output_type": "execute_result"
    },
    {
     "data": {
      "text/plain": [
       "Text(0, 0.5, 'Halstead Effort\\n(Relative Difference)')"
      ]
     },
     "execution_count": 12,
     "metadata": {},
     "output_type": "execute_result"
    },
    {
     "data": {
      "text/plain": [
       "Text(0.5, 1.0, 'Ride Allocation')"
      ]
     },
     "execution_count": 12,
     "metadata": {},
     "output_type": "execute_result"
    },
    {
     "data": {
      "text/plain": [
       "<matplotlib.legend.Legend at 0x7f9454ca6460>"
      ]
     },
     "execution_count": 12,
     "metadata": {},
     "output_type": "execute_result"
    },
    {
     "data": {
      "image/png": "[encoded data removed]",
      "text/plain": [
       "<Figure size 864x648 with 6 Axes>"
      ]
     },
     "metadata": {
      "needs_background": "light"
     },
     "output_type": "display_data"
    },
    {
     "data": {
      "text/plain": [
       "<BarContainer object of 3 artists>"
      ]
     },
     "execution_count": 12,
     "metadata": {},
     "output_type": "execute_result"
    },
    {
     "data": {
      "text/plain": [
       "<BarContainer object of 3 artists>"
      ]
     },
     "execution_count": 12,
     "metadata": {},
     "output_type": "execute_result"
    },
    {
     "data": {
      "text/plain": [
       "Text(0, 0.5, 'Maintainability Index\\n(Absolute Values)')"
      ]
     },
     "execution_count": 12,
     "metadata": {},
     "output_type": "execute_result"
    },
    {
     "data": {
      "text/plain": [
       "Text(0.5, 1.0, 'Insurance Claims')"
      ]
     },
     "execution_count": 12,
     "metadata": {},
     "output_type": "execute_result"
    },
    {
     "data": {
      "text/plain": [
       "<matplotlib.legend.Legend at 0x7f9454ae1250>"
      ]
     },
     "execution_count": 12,
     "metadata": {},
     "output_type": "execute_result"
    },
    {
     "data": {
      "text/plain": [
       "<BarContainer object of 2 artists>"
      ]
     },
     "execution_count": 12,
     "metadata": {},
     "output_type": "execute_result"
    },
    {
     "data": {
      "text/plain": [
       "<BarContainer object of 2 artists>"
      ]
     },
     "execution_count": 12,
     "metadata": {},
     "output_type": "execute_result"
    },
    {
     "data": {
      "text/plain": [
       "Text(0, 0.5, 'Maintainability Index\\n(Relative Difference)')"
      ]
     },
     "execution_count": 12,
     "metadata": {},
     "output_type": "execute_result"
    },
    {
     "data": {
      "text/plain": [
       "Text(0.5, 1.0, 'Insurance Claims')"
      ]
     },
     "execution_count": 12,
     "metadata": {},
     "output_type": "execute_result"
    },
    {
     "data": {
      "text/plain": [
       "<matplotlib.legend.Legend at 0x7f9455015b80>"
      ]
     },
     "execution_count": 12,
     "metadata": {},
     "output_type": "execute_result"
    },
    {
     "data": {
      "text/plain": [
       "<BarContainer object of 3 artists>"
      ]
     },
     "execution_count": 12,
     "metadata": {},
     "output_type": "execute_result"
    },
    {
     "data": {
      "text/plain": [
       "<BarContainer object of 3 artists>"
      ]
     },
     "execution_count": 12,
     "metadata": {},
     "output_type": "execute_result"
    },
    {
     "data": {
      "text/plain": [
       "Text(0, 0.5, 'Maintainability Index\\n(Absolute Values)')"
      ]
     },
     "execution_count": 12,
     "metadata": {},
     "output_type": "execute_result"
    },
    {
     "data": {
      "text/plain": [
       "Text(0.5, 1.0, 'Mblogger')"
      ]
     },
     "execution_count": 12,
     "metadata": {},
     "output_type": "execute_result"
    },
    {
     "data": {
      "text/plain": [
       "<matplotlib.legend.Legend at 0x7f94545104c0>"
      ]
     },
     "execution_count": 12,
     "metadata": {},
     "output_type": "execute_result"
    },
    {
     "data": {
      "text/plain": [
       "<BarContainer object of 2 artists>"
      ]
     },
     "execution_count": 12,
     "metadata": {},
     "output_type": "execute_result"
    },
    {
     "data": {
      "text/plain": [
       "<BarContainer object of 2 artists>"
      ]
     },
     "execution_count": 12,
     "metadata": {},
     "output_type": "execute_result"
    },
    {
     "data": {
      "text/plain": [
       "Text(0, 0.5, 'Maintainability Index\\n(Relative Difference)')"
      ]
     },
     "execution_count": 12,
     "metadata": {},
     "output_type": "execute_result"
    },
    {
     "data": {
      "text/plain": [
       "Text(0.5, 1.0, 'Mblogger')"
      ]
     },
     "execution_count": 12,
     "metadata": {},
     "output_type": "execute_result"
    },
    {
     "data": {
      "text/plain": [
       "<matplotlib.legend.Legend at 0x7f9454acba00>"
      ]
     },
     "execution_count": 12,
     "metadata": {},
     "output_type": "execute_result"
    },
    {
     "data": {
      "text/plain": [
       "<BarContainer object of 3 artists>"
      ]
     },
     "execution_count": 12,
     "metadata": {},
     "output_type": "execute_result"
    },
    {
     "data": {
      "text/plain": [
       "<BarContainer object of 3 artists>"
      ]
     },
     "execution_count": 12,
     "metadata": {},
     "output_type": "execute_result"
    },
    {
     "data": {
      "text/plain": [
       "Text(0, 0.5, 'Maintainability Index\\n(Absolute Values)')"
      ]
     },
     "execution_count": 12,
     "metadata": {},
     "output_type": "execute_result"
    },
    {
     "data": {
      "text/plain": [
       "Text(0.5, 1.0, 'Ride Allocation')"
      ]
     },
     "execution_count": 12,
     "metadata": {},
     "output_type": "execute_result"
    },
    {
     "data": {
      "text/plain": [
       "<matplotlib.legend.Legend at 0x7f9454acbaf0>"
      ]
     },
     "execution_count": 12,
     "metadata": {},
     "output_type": "execute_result"
    },
    {
     "data": {
      "text/plain": [
       "<BarContainer object of 2 artists>"
      ]
     },
     "execution_count": 12,
     "metadata": {},
     "output_type": "execute_result"
    },
    {
     "data": {
      "text/plain": [
       "<BarContainer object of 2 artists>"
      ]
     },
     "execution_count": 12,
     "metadata": {},
     "output_type": "execute_result"
    },
    {
     "data": {
      "text/plain": [
       "Text(0, 0.5, 'Maintainability Index\\n(Relative Difference)')"
      ]
     },
     "execution_count": 12,
     "metadata": {},
     "output_type": "execute_result"
    },
    {
     "data": {
      "text/plain": [
       "Text(0.5, 1.0, 'Ride Allocation')"
      ]
     },
     "execution_count": 12,
     "metadata": {},
     "output_type": "execute_result"
    },
    {
     "data": {
      "text/plain": [
       "<matplotlib.legend.Legend at 0x7f9454578f40>"
      ]
     },
     "execution_count": 12,
     "metadata": {},
     "output_type": "execute_result"
    },
    {
     "data": {
      "image/png": "[encoded data removed]",
      "text/plain": [
       "<Figure size 864x648 with 6 Axes>"
      ]
     },
     "metadata": {
      "needs_background": "light"
     },
     "output_type": "display_data"
    },
    {
     "data": {
      "text/plain": [
       "<BarContainer object of 3 artists>"
      ]
     },
     "execution_count": 12,
     "metadata": {},
     "output_type": "execute_result"
    },
    {
     "data": {
      "text/plain": [
       "<BarContainer object of 3 artists>"
      ]
     },
     "execution_count": 12,
     "metadata": {},
     "output_type": "execute_result"
    },
    {
     "data": {
      "text/plain": [
       "Text(0, 0.5, 'Cyclomatic Complexity \\n(Absolute Values)')"
      ]
     },
     "execution_count": 12,
     "metadata": {},
     "output_type": "execute_result"
    },
    {
     "data": {
      "text/plain": [
       "Text(0.5, 1.0, 'Insurance Claims')"
      ]
     },
     "execution_count": 12,
     "metadata": {},
     "output_type": "execute_result"
    },
    {
     "data": {
      "text/plain": [
       "<matplotlib.legend.Legend at 0x7f94545786d0>"
      ]
     },
     "execution_count": 12,
     "metadata": {},
     "output_type": "execute_result"
    },
    {
     "data": {
      "text/plain": [
       "<BarContainer object of 2 artists>"
      ]
     },
     "execution_count": 12,
     "metadata": {},
     "output_type": "execute_result"
    },
    {
     "data": {
      "text/plain": [
       "<BarContainer object of 2 artists>"
      ]
     },
     "execution_count": 12,
     "metadata": {},
     "output_type": "execute_result"
    },
    {
     "data": {
      "text/plain": [
       "Text(0, 0.5, 'Cyclomatic Complexity \\n(Relative Difference)')"
      ]
     },
     "execution_count": 12,
     "metadata": {},
     "output_type": "execute_result"
    },
    {
     "data": {
      "text/plain": [
       "Text(0.5, 1.0, 'Insurance Claims')"
      ]
     },
     "execution_count": 12,
     "metadata": {},
     "output_type": "execute_result"
    },
    {
     "data": {
      "text/plain": [
       "<matplotlib.legend.Legend at 0x7f9453937d60>"
      ]
     },
     "execution_count": 12,
     "metadata": {},
     "output_type": "execute_result"
    },
    {
     "data": {
      "text/plain": [
       "<BarContainer object of 3 artists>"
      ]
     },
     "execution_count": 12,
     "metadata": {},
     "output_type": "execute_result"
    },
    {
     "data": {
      "text/plain": [
       "<BarContainer object of 3 artists>"
      ]
     },
     "execution_count": 12,
     "metadata": {},
     "output_type": "execute_result"
    },
    {
     "data": {
      "text/plain": [
       "Text(0, 0.5, 'Cyclomatic Complexity \\n(Absolute Values)')"
      ]
     },
     "execution_count": 12,
     "metadata": {},
     "output_type": "execute_result"
    },
    {
     "data": {
      "text/plain": [
       "Text(0.5, 1.0, 'Mblogger')"
      ]
     },
     "execution_count": 12,
     "metadata": {},
     "output_type": "execute_result"
    },
    {
     "data": {
      "text/plain": [
       "<matplotlib.legend.Legend at 0x7f945393cd00>"
      ]
     },
     "execution_count": 12,
     "metadata": {},
     "output_type": "execute_result"
    },
    {
     "data": {
      "text/plain": [
       "<BarContainer object of 2 artists>"
      ]
     },
     "execution_count": 12,
     "metadata": {},
     "output_type": "execute_result"
    },
    {
     "data": {
      "text/plain": [
       "<BarContainer object of 2 artists>"
      ]
     },
     "execution_count": 12,
     "metadata": {},
     "output_type": "execute_result"
    },
    {
     "data": {
      "text/plain": [
       "Text(0, 0.5, 'Cyclomatic Complexity \\n(Relative Difference)')"
      ]
     },
     "execution_count": 12,
     "metadata": {},
     "output_type": "execute_result"
    },
    {
     "data": {
      "text/plain": [
       "Text(0.5, 1.0, 'Mblogger')"
      ]
     },
     "execution_count": 12,
     "metadata": {},
     "output_type": "execute_result"
    },
    {
     "data": {
      "text/plain": [
       "<matplotlib.legend.Legend at 0x7f9453948280>"
      ]
     },
     "execution_count": 12,
     "metadata": {},
     "output_type": "execute_result"
    },
    {
     "data": {
      "text/plain": [
       "<BarContainer object of 3 artists>"
      ]
     },
     "execution_count": 12,
     "metadata": {},
     "output_type": "execute_result"
    },
    {
     "data": {
      "text/plain": [
       "<BarContainer object of 3 artists>"
      ]
     },
     "execution_count": 12,
     "metadata": {},
     "output_type": "execute_result"
    },
    {
     "data": {
      "text/plain": [
       "Text(0, 0.5, 'Cyclomatic Complexity \\n(Absolute Values)')"
      ]
     },
     "execution_count": 12,
     "metadata": {},
     "output_type": "execute_result"
    },
    {
     "data": {
      "text/plain": [
       "Text(0.5, 1.0, 'Ride Allocation')"
      ]
     },
     "execution_count": 12,
     "metadata": {},
     "output_type": "execute_result"
    },
    {
     "data": {
      "text/plain": [
       "<matplotlib.legend.Legend at 0x7f9453948400>"
      ]
     },
     "execution_count": 12,
     "metadata": {},
     "output_type": "execute_result"
    },
    {
     "data": {
      "text/plain": [
       "<BarContainer object of 2 artists>"
      ]
     },
     "execution_count": 12,
     "metadata": {},
     "output_type": "execute_result"
    },
    {
     "data": {
      "text/plain": [
       "<BarContainer object of 2 artists>"
      ]
     },
     "execution_count": 12,
     "metadata": {},
     "output_type": "execute_result"
    },
    {
     "data": {
      "text/plain": [
       "Text(0, 0.5, 'Cyclomatic Complexity \\n(Relative Difference)')"
      ]
     },
     "execution_count": 12,
     "metadata": {},
     "output_type": "execute_result"
    },
    {
     "data": {
      "text/plain": [
       "Text(0.5, 1.0, 'Ride Allocation')"
      ]
     },
     "execution_count": 12,
     "metadata": {},
     "output_type": "execute_result"
    },
    {
     "data": {
      "text/plain": [
       "<matplotlib.legend.Legend at 0x7f94539775e0>"
      ]
     },
     "execution_count": 12,
     "metadata": {},
     "output_type": "execute_result"
    },
    {
     "data": {
      "image/png": "[encoded data removed]",
      "text/plain": [
       "<Figure size 864x648 with 6 Axes>"
      ]
     },
     "metadata": {
      "needs_background": "light"
     },
     "output_type": "display_data"
    },
    {
     "data": {
      "text/plain": [
       "<BarContainer object of 3 artists>"
      ]
     },
     "execution_count": 12,
     "metadata": {},
     "output_type": "execute_result"
    },
    {
     "data": {
      "text/plain": [
       "<BarContainer object of 3 artists>"
      ]
     },
     "execution_count": 12,
     "metadata": {},
     "output_type": "execute_result"
    },
    {
     "data": {
      "text/plain": [
       "Text(0, 0.5, 'Cyclomatic Complexity \\n(Absolute Values)')"
      ]
     },
     "execution_count": 12,
     "metadata": {},
     "output_type": "execute_result"
    },
    {
     "data": {
      "text/plain": [
       "Text(0.5, 1.0, 'Insurance Claims')"
      ]
     },
     "execution_count": 12,
     "metadata": {},
     "output_type": "execute_result"
    },
    {
     "data": {
      "text/plain": [
       "<matplotlib.legend.Legend at 0x7f9454c83520>"
      ]
     },
     "execution_count": 12,
     "metadata": {},
     "output_type": "execute_result"
    },
    {
     "data": {
      "text/plain": [
       "<BarContainer object of 2 artists>"
      ]
     },
     "execution_count": 12,
     "metadata": {},
     "output_type": "execute_result"
    },
    {
     "data": {
      "text/plain": [
       "<BarContainer object of 2 artists>"
      ]
     },
     "execution_count": 12,
     "metadata": {},
     "output_type": "execute_result"
    },
    {
     "data": {
      "text/plain": [
       "Text(0, 0.5, 'Cyclomatic Complexity \\n(Relative Difference)')"
      ]
     },
     "execution_count": 12,
     "metadata": {},
     "output_type": "execute_result"
    },
    {
     "data": {
      "text/plain": [
       "Text(0.5, 1.0, 'Insurance Claims')"
      ]
     },
     "execution_count": 12,
     "metadata": {},
     "output_type": "execute_result"
    },
    {
     "data": {
      "text/plain": [
       "<matplotlib.legend.Legend at 0x7f9454a38610>"
      ]
     },
     "execution_count": 12,
     "metadata": {},
     "output_type": "execute_result"
    },
    {
     "data": {
      "text/plain": [
       "<BarContainer object of 3 artists>"
      ]
     },
     "execution_count": 12,
     "metadata": {},
     "output_type": "execute_result"
    },
    {
     "data": {
      "text/plain": [
       "<BarContainer object of 3 artists>"
      ]
     },
     "execution_count": 12,
     "metadata": {},
     "output_type": "execute_result"
    },
    {
     "data": {
      "text/plain": [
       "Text(0, 0.5, 'Cyclomatic Complexity \\n(Absolute Values)')"
      ]
     },
     "execution_count": 12,
     "metadata": {},
     "output_type": "execute_result"
    },
    {
     "data": {
      "text/plain": [
       "Text(0.5, 1.0, 'Mblogger')"
      ]
     },
     "execution_count": 12,
     "metadata": {},
     "output_type": "execute_result"
    },
    {
     "data": {
      "text/plain": [
       "<matplotlib.legend.Legend at 0x7f9454bc3790>"
      ]
     },
     "execution_count": 12,
     "metadata": {},
     "output_type": "execute_result"
    },
    {
     "data": {
      "text/plain": [
       "<BarContainer object of 2 artists>"
      ]
     },
     "execution_count": 12,
     "metadata": {},
     "output_type": "execute_result"
    },
    {
     "data": {
      "text/plain": [
       "<BarContainer object of 2 artists>"
      ]
     },
     "execution_count": 12,
     "metadata": {},
     "output_type": "execute_result"
    },
    {
     "data": {
      "text/plain": [
       "Text(0, 0.5, 'Cyclomatic Complexity \\n(Relative Difference)')"
      ]
     },
     "execution_count": 12,
     "metadata": {},
     "output_type": "execute_result"
    },
    {
     "data": {
      "text/plain": [
       "Text(0.5, 1.0, 'Mblogger')"
      ]
     },
     "execution_count": 12,
     "metadata": {},
     "output_type": "execute_result"
    },
    {
     "data": {
      "text/plain": [
       "<matplotlib.legend.Legend at 0x7f94539fabe0>"
      ]
     },
     "execution_count": 12,
     "metadata": {},
     "output_type": "execute_result"
    },
    {
     "data": {
      "text/plain": [
       "<BarContainer object of 3 artists>"
      ]
     },
     "execution_count": 12,
     "metadata": {},
     "output_type": "execute_result"
    },
    {
     "data": {
      "text/plain": [
       "<BarContainer object of 3 artists>"
      ]
     },
     "execution_count": 12,
     "metadata": {},
     "output_type": "execute_result"
    },
    {
     "data": {
      "text/plain": [
       "Text(0, 0.5, 'Cyclomatic Complexity \\n(Absolute Values)')"
      ]
     },
     "execution_count": 12,
     "metadata": {},
     "output_type": "execute_result"
    },
    {
     "data": {
      "text/plain": [
       "Text(0.5, 1.0, 'Ride Allocation')"
      ]
     },
     "execution_count": 12,
     "metadata": {},
     "output_type": "execute_result"
    },
    {
     "data": {
      "text/plain": [
       "<matplotlib.legend.Legend at 0x7f9453ac4250>"
      ]
     },
     "execution_count": 12,
     "metadata": {},
     "output_type": "execute_result"
    },
    {
     "data": {
      "text/plain": [
       "<BarContainer object of 2 artists>"
      ]
     },
     "execution_count": 12,
     "metadata": {},
     "output_type": "execute_result"
    },
    {
     "data": {
      "text/plain": [
       "<BarContainer object of 2 artists>"
      ]
     },
     "execution_count": 12,
     "metadata": {},
     "output_type": "execute_result"
    },
    {
     "data": {
      "text/plain": [
       "Text(0, 0.5, 'Cyclomatic Complexity \\n(Relative Difference)')"
      ]
     },
     "execution_count": 12,
     "metadata": {},
     "output_type": "execute_result"
    },
    {
     "data": {
      "text/plain": [
       "Text(0.5, 1.0, 'Ride Allocation')"
      ]
     },
     "execution_count": 12,
     "metadata": {},
     "output_type": "execute_result"
    },
    {
     "data": {
      "text/plain": [
       "<matplotlib.legend.Legend at 0x7f9453b447f0>"
      ]
     },
     "execution_count": 12,
     "metadata": {},
     "output_type": "execute_result"
    },
    {
     "data": {
      "image/png": "[encoded data removed]",
      "text/plain": [
       "<Figure size 864x648 with 6 Axes>"
      ]
     },
     "metadata": {
      "needs_background": "light"
     },
     "output_type": "display_data"
    },
    {
     "data": {
      "text/plain": [
       "<BarContainer object of 3 artists>"
      ]
     },
     "execution_count": 12,
     "metadata": {},
     "output_type": "execute_result"
    },
    {
     "data": {
      "text/plain": [
       "<BarContainer object of 3 artists>"
      ]
     },
     "execution_count": 12,
     "metadata": {},
     "output_type": "execute_result"
    },
    {
     "data": {
      "text/plain": [
       "Text(0, 0.5, 'Cognitive Complexity \\n(Absolute Values)')"
      ]
     },
     "execution_count": 12,
     "metadata": {},
     "output_type": "execute_result"
    },
    {
     "data": {
      "text/plain": [
       "Text(0.5, 1.0, 'Insurance Claims')"
      ]
     },
     "execution_count": 12,
     "metadata": {},
     "output_type": "execute_result"
    },
    {
     "data": {
      "text/plain": [
       "<matplotlib.legend.Legend at 0x7f945486b910>"
      ]
     },
     "execution_count": 12,
     "metadata": {},
     "output_type": "execute_result"
    },
    {
     "data": {
      "text/plain": [
       "<BarContainer object of 2 artists>"
      ]
     },
     "execution_count": 12,
     "metadata": {},
     "output_type": "execute_result"
    },
    {
     "data": {
      "text/plain": [
       "<BarContainer object of 2 artists>"
      ]
     },
     "execution_count": 12,
     "metadata": {},
     "output_type": "execute_result"
    },
    {
     "data": {
      "text/plain": [
       "Text(0, 0.5, 'Cognitive Complexity \\n(Relative Difference)')"
      ]
     },
     "execution_count": 12,
     "metadata": {},
     "output_type": "execute_result"
    },
    {
     "data": {
      "text/plain": [
       "Text(0.5, 1.0, 'Insurance Claims')"
      ]
     },
     "execution_count": 12,
     "metadata": {},
     "output_type": "execute_result"
    },
    {
     "data": {
      "text/plain": [
       "<matplotlib.legend.Legend at 0x7f94538b4880>"
      ]
     },
     "execution_count": 12,
     "metadata": {},
     "output_type": "execute_result"
    },
    {
     "data": {
      "text/plain": [
       "<BarContainer object of 3 artists>"
      ]
     },
     "execution_count": 12,
     "metadata": {},
     "output_type": "execute_result"
    },
    {
     "data": {
      "text/plain": [
       "<BarContainer object of 3 artists>"
      ]
     },
     "execution_count": 12,
     "metadata": {},
     "output_type": "execute_result"
    },
    {
     "data": {
      "text/plain": [
       "Text(0, 0.5, 'Cognitive Complexity \\n(Absolute Values)')"
      ]
     },
     "execution_count": 12,
     "metadata": {},
     "output_type": "execute_result"
    },
    {
     "data": {
      "text/plain": [
       "Text(0.5, 1.0, 'Mblogger')"
      ]
     },
     "execution_count": 12,
     "metadata": {},
     "output_type": "execute_result"
    },
    {
     "data": {
      "text/plain": [
       "<matplotlib.legend.Legend at 0x7f94548eaa00>"
      ]
     },
     "execution_count": 12,
     "metadata": {},
     "output_type": "execute_result"
    },
    {
     "data": {
      "text/plain": [
       "<BarContainer object of 2 artists>"
      ]
     },
     "execution_count": 12,
     "metadata": {},
     "output_type": "execute_result"
    },
    {
     "data": {
      "text/plain": [
       "<BarContainer object of 2 artists>"
      ]
     },
     "execution_count": 12,
     "metadata": {},
     "output_type": "execute_result"
    },
    {
     "data": {
      "text/plain": [
       "Text(0, 0.5, 'Cognitive Complexity \\n(Relative Difference)')"
      ]
     },
     "execution_count": 12,
     "metadata": {},
     "output_type": "execute_result"
    },
    {
     "data": {
      "text/plain": [
       "Text(0.5, 1.0, 'Mblogger')"
      ]
     },
     "execution_count": 12,
     "metadata": {},
     "output_type": "execute_result"
    },
    {
     "data": {
      "text/plain": [
       "<matplotlib.legend.Legend at 0x7f94538dcd60>"
      ]
     },
     "execution_count": 12,
     "metadata": {},
     "output_type": "execute_result"
    },
    {
     "data": {
      "text/plain": [
       "<BarContainer object of 3 artists>"
      ]
     },
     "execution_count": 12,
     "metadata": {},
     "output_type": "execute_result"
    },
    {
     "data": {
      "text/plain": [
       "<BarContainer object of 3 artists>"
      ]
     },
     "execution_count": 12,
     "metadata": {},
     "output_type": "execute_result"
    },
    {
     "data": {
      "text/plain": [
       "Text(0, 0.5, 'Cognitive Complexity \\n(Absolute Values)')"
      ]
     },
     "execution_count": 12,
     "metadata": {},
     "output_type": "execute_result"
    },
    {
     "data": {
      "text/plain": [
       "Text(0.5, 1.0, 'Ride Allocation')"
      ]
     },
     "execution_count": 12,
     "metadata": {},
     "output_type": "execute_result"
    },
    {
     "data": {
      "text/plain": [
       "<matplotlib.legend.Legend at 0x7f94538dcdc0>"
      ]
     },
     "execution_count": 12,
     "metadata": {},
     "output_type": "execute_result"
    },
    {
     "data": {
      "text/plain": [
       "<BarContainer object of 2 artists>"
      ]
     },
     "execution_count": 12,
     "metadata": {},
     "output_type": "execute_result"
    },
    {
     "data": {
      "text/plain": [
       "<BarContainer object of 2 artists>"
      ]
     },
     "execution_count": 12,
     "metadata": {},
     "output_type": "execute_result"
    },
    {
     "data": {
      "text/plain": [
       "Text(0, 0.5, 'Cognitive Complexity \\n(Relative Difference)')"
      ]
     },
     "execution_count": 12,
     "metadata": {},
     "output_type": "execute_result"
    },
    {
     "data": {
      "text/plain": [
       "Text(0.5, 1.0, 'Ride Allocation')"
      ]
     },
     "execution_count": 12,
     "metadata": {},
     "output_type": "execute_result"
    },
    {
     "data": {
      "text/plain": [
       "<matplotlib.legend.Legend at 0x7f9453b59490>"
      ]
     },
     "execution_count": 12,
     "metadata": {},
     "output_type": "execute_result"
    },
    {
     "data": {
      "image/png": "[encoded data removed]",
      "text/plain": [
       "<Figure size 864x648 with 6 Axes>"
      ]
     },
     "metadata": {
      "needs_background": "light"
     },
     "output_type": "display_data"
    },
    {
     "data": {
      "text/plain": [
       "<BarContainer object of 3 artists>"
      ]
     },
     "execution_count": 12,
     "metadata": {},
     "output_type": "execute_result"
    },
    {
     "data": {
      "text/plain": [
       "<BarContainer object of 3 artists>"
      ]
     },
     "execution_count": 12,
     "metadata": {},
     "output_type": "execute_result"
    },
    {
     "data": {
      "text/plain": [
       "Text(0, 0.5, 'Cognitive Complexity \\n(Absolute Values)')"
      ]
     },
     "execution_count": 12,
     "metadata": {},
     "output_type": "execute_result"
    },
    {
     "data": {
      "text/plain": [
       "Text(0.5, 1.0, 'Insurance Claims')"
      ]
     },
     "execution_count": 12,
     "metadata": {},
     "output_type": "execute_result"
    },
    {
     "data": {
      "text/plain": [
       "<matplotlib.legend.Legend at 0x7f9454503cd0>"
      ]
     },
     "execution_count": 12,
     "metadata": {},
     "output_type": "execute_result"
    },
    {
     "data": {
      "text/plain": [
       "<BarContainer object of 2 artists>"
      ]
     },
     "execution_count": 12,
     "metadata": {},
     "output_type": "execute_result"
    },
    {
     "data": {
      "text/plain": [
       "<BarContainer object of 2 artists>"
      ]
     },
     "execution_count": 12,
     "metadata": {},
     "output_type": "execute_result"
    },
    {
     "data": {
      "text/plain": [
       "Text(0, 0.5, 'Cognitive Complexity \\n(Relative Difference)')"
      ]
     },
     "execution_count": 12,
     "metadata": {},
     "output_type": "execute_result"
    },
    {
     "data": {
      "text/plain": [
       "Text(0.5, 1.0, 'Insurance Claims')"
      ]
     },
     "execution_count": 12,
     "metadata": {},
     "output_type": "execute_result"
    },
    {
     "data": {
      "text/plain": [
       "<matplotlib.legend.Legend at 0x7f9454a9da90>"
      ]
     },
     "execution_count": 12,
     "metadata": {},
     "output_type": "execute_result"
    },
    {
     "data": {
      "text/plain": [
       "<BarContainer object of 3 artists>"
      ]
     },
     "execution_count": 12,
     "metadata": {},
     "output_type": "execute_result"
    },
    {
     "data": {
      "text/plain": [
       "<BarContainer object of 3 artists>"
      ]
     },
     "execution_count": 12,
     "metadata": {},
     "output_type": "execute_result"
    },
    {
     "data": {
      "text/plain": [
       "Text(0, 0.5, 'Cognitive Complexity \\n(Absolute Values)')"
      ]
     },
     "execution_count": 12,
     "metadata": {},
     "output_type": "execute_result"
    },
    {
     "data": {
      "text/plain": [
       "Text(0.5, 1.0, 'Mblogger')"
      ]
     },
     "execution_count": 12,
     "metadata": {},
     "output_type": "execute_result"
    },
    {
     "data": {
      "text/plain": [
       "<matplotlib.legend.Legend at 0x7f9454c725e0>"
      ]
     },
     "execution_count": 12,
     "metadata": {},
     "output_type": "execute_result"
    },
    {
     "data": {
      "text/plain": [
       "<BarContainer object of 2 artists>"
      ]
     },
     "execution_count": 12,
     "metadata": {},
     "output_type": "execute_result"
    },
    {
     "data": {
      "text/plain": [
       "<BarContainer object of 2 artists>"
      ]
     },
     "execution_count": 12,
     "metadata": {},
     "output_type": "execute_result"
    },
    {
     "data": {
      "text/plain": [
       "Text(0, 0.5, 'Cognitive Complexity \\n(Relative Difference)')"
      ]
     },
     "execution_count": 12,
     "metadata": {},
     "output_type": "execute_result"
    },
    {
     "data": {
      "text/plain": [
       "Text(0.5, 1.0, 'Mblogger')"
      ]
     },
     "execution_count": 12,
     "metadata": {},
     "output_type": "execute_result"
    },
    {
     "data": {
      "text/plain": [
       "<matplotlib.legend.Legend at 0x7f9454a90220>"
      ]
     },
     "execution_count": 12,
     "metadata": {},
     "output_type": "execute_result"
    },
    {
     "data": {
      "text/plain": [
       "<BarContainer object of 3 artists>"
      ]
     },
     "execution_count": 12,
     "metadata": {},
     "output_type": "execute_result"
    },
    {
     "data": {
      "text/plain": [
       "<BarContainer object of 3 artists>"
      ]
     },
     "execution_count": 12,
     "metadata": {},
     "output_type": "execute_result"
    },
    {
     "data": {
      "text/plain": [
       "Text(0, 0.5, 'Cognitive Complexity \\n(Absolute Values)')"
      ]
     },
     "execution_count": 12,
     "metadata": {},
     "output_type": "execute_result"
    },
    {
     "data": {
      "text/plain": [
       "Text(0.5, 1.0, 'Ride Allocation')"
      ]
     },
     "execution_count": 12,
     "metadata": {},
     "output_type": "execute_result"
    },
    {
     "data": {
      "text/plain": [
       "<matplotlib.legend.Legend at 0x7f9454a90280>"
      ]
     },
     "execution_count": 12,
     "metadata": {},
     "output_type": "execute_result"
    },
    {
     "data": {
      "text/plain": [
       "<BarContainer object of 2 artists>"
      ]
     },
     "execution_count": 12,
     "metadata": {},
     "output_type": "execute_result"
    },
    {
     "data": {
      "text/plain": [
       "<BarContainer object of 2 artists>"
      ]
     },
     "execution_count": 12,
     "metadata": {},
     "output_type": "execute_result"
    },
    {
     "data": {
      "text/plain": [
       "Text(0, 0.5, 'Cognitive Complexity \\n(Relative Difference)')"
      ]
     },
     "execution_count": 12,
     "metadata": {},
     "output_type": "execute_result"
    },
    {
     "data": {
      "text/plain": [
       "Text(0.5, 1.0, 'Ride Allocation')"
      ]
     },
     "execution_count": 12,
     "metadata": {},
     "output_type": "execute_result"
    },
    {
     "data": {
      "text/plain": [
       "<matplotlib.legend.Legend at 0x7f94539aef10>"
      ]
     },
     "execution_count": 12,
     "metadata": {},
     "output_type": "execute_result"
    },
    {
     "data": {
      "image/png": "[encoded data removed]",
      "text/plain": [
       "<Figure size 864x648 with 6 Axes>"
      ]
     },
     "metadata": {
      "needs_background": "light"
     },
     "output_type": "display_data"
    },
    {
     "data": {
      "text/plain": [
       "<BarContainer object of 3 artists>"
      ]
     },
     "execution_count": 12,
     "metadata": {},
     "output_type": "execute_result"
    },
    {
     "data": {
      "text/plain": [
       "<BarContainer object of 3 artists>"
      ]
     },
     "execution_count": 12,
     "metadata": {},
     "output_type": "execute_result"
    },
    {
     "data": {
      "text/plain": [
       "Text(0, 0.5, 'Number of Words\\n(Absolute Values)')"
      ]
     },
     "execution_count": 12,
     "metadata": {},
     "output_type": "execute_result"
    },
    {
     "data": {
      "text/plain": [
       "Text(0.5, 1.0, 'Insurance Claims')"
      ]
     },
     "execution_count": 12,
     "metadata": {},
     "output_type": "execute_result"
    },
    {
     "data": {
      "text/plain": [
       "<matplotlib.legend.Legend at 0x7f94539aeee0>"
      ]
     },
     "execution_count": 12,
     "metadata": {},
     "output_type": "execute_result"
    },
    {
     "data": {
      "text/plain": [
       "<BarContainer object of 2 artists>"
      ]
     },
     "execution_count": 12,
     "metadata": {},
     "output_type": "execute_result"
    },
    {
     "data": {
      "text/plain": [
       "<BarContainer object of 2 artists>"
      ]
     },
     "execution_count": 12,
     "metadata": {},
     "output_type": "execute_result"
    },
    {
     "data": {
      "text/plain": [
       "Text(0, 0.5, 'Number of Words\\n(Relative Difference)')"
      ]
     },
     "execution_count": 12,
     "metadata": {},
     "output_type": "execute_result"
    },
    {
     "data": {
      "text/plain": [
       "Text(0.5, 1.0, 'Insurance Claims')"
      ]
     },
     "execution_count": 12,
     "metadata": {},
     "output_type": "execute_result"
    },
    {
     "data": {
      "text/plain": [
       "<matplotlib.legend.Legend at 0x7f9454b31c40>"
      ]
     },
     "execution_count": 12,
     "metadata": {},
     "output_type": "execute_result"
    },
    {
     "data": {
      "text/plain": [
       "<BarContainer object of 3 artists>"
      ]
     },
     "execution_count": 12,
     "metadata": {},
     "output_type": "execute_result"
    },
    {
     "data": {
      "text/plain": [
       "<BarContainer object of 3 artists>"
      ]
     },
     "execution_count": 12,
     "metadata": {},
     "output_type": "execute_result"
    },
    {
     "data": {
      "text/plain": [
       "Text(0, 0.5, 'Number of Words\\n(Absolute Values)')"
      ]
     },
     "execution_count": 12,
     "metadata": {},
     "output_type": "execute_result"
    },
    {
     "data": {
      "text/plain": [
       "Text(0.5, 1.0, 'Mblogger')"
      ]
     },
     "execution_count": 12,
     "metadata": {},
     "output_type": "execute_result"
    },
    {
     "data": {
      "text/plain": [
       "<matplotlib.legend.Legend at 0x7f9454f50b50>"
      ]
     },
     "execution_count": 12,
     "metadata": {},
     "output_type": "execute_result"
    },
    {
     "data": {
      "text/plain": [
       "<BarContainer object of 2 artists>"
      ]
     },
     "execution_count": 12,
     "metadata": {},
     "output_type": "execute_result"
    },
    {
     "data": {
      "text/plain": [
       "<BarContainer object of 2 artists>"
      ]
     },
     "execution_count": 12,
     "metadata": {},
     "output_type": "execute_result"
    },
    {
     "data": {
      "text/plain": [
       "Text(0, 0.5, 'Number of Words\\n(Relative Difference)')"
      ]
     },
     "execution_count": 12,
     "metadata": {},
     "output_type": "execute_result"
    },
    {
     "data": {
      "text/plain": [
       "Text(0.5, 1.0, 'Mblogger')"
      ]
     },
     "execution_count": 12,
     "metadata": {},
     "output_type": "execute_result"
    },
    {
     "data": {
      "text/plain": [
       "<matplotlib.legend.Legend at 0x7f9454c541c0>"
      ]
     },
     "execution_count": 12,
     "metadata": {},
     "output_type": "execute_result"
    },
    {
     "data": {
      "text/plain": [
       "<BarContainer object of 3 artists>"
      ]
     },
     "execution_count": 12,
     "metadata": {},
     "output_type": "execute_result"
    },
    {
     "data": {
      "text/plain": [
       "<BarContainer object of 3 artists>"
      ]
     },
     "execution_count": 12,
     "metadata": {},
     "output_type": "execute_result"
    },
    {
     "data": {
      "text/plain": [
       "Text(0, 0.5, 'Number of Words\\n(Absolute Values)')"
      ]
     },
     "execution_count": 12,
     "metadata": {},
     "output_type": "execute_result"
    },
    {
     "data": {
      "text/plain": [
       "Text(0.5, 1.0, 'Ride Allocation')"
      ]
     },
     "execution_count": 12,
     "metadata": {},
     "output_type": "execute_result"
    },
    {
     "data": {
      "text/plain": [
       "<matplotlib.legend.Legend at 0x7f9454c543d0>"
      ]
     },
     "execution_count": 12,
     "metadata": {},
     "output_type": "execute_result"
    },
    {
     "data": {
      "text/plain": [
       "<BarContainer object of 2 artists>"
      ]
     },
     "execution_count": 12,
     "metadata": {},
     "output_type": "execute_result"
    },
    {
     "data": {
      "text/plain": [
       "<BarContainer object of 2 artists>"
      ]
     },
     "execution_count": 12,
     "metadata": {},
     "output_type": "execute_result"
    },
    {
     "data": {
      "text/plain": [
       "Text(0, 0.5, 'Number of Words\\n(Relative Difference)')"
      ]
     },
     "execution_count": 12,
     "metadata": {},
     "output_type": "execute_result"
    },
    {
     "data": {
      "text/plain": [
       "Text(0.5, 1.0, 'Ride Allocation')"
      ]
     },
     "execution_count": 12,
     "metadata": {},
     "output_type": "execute_result"
    },
    {
     "data": {
      "text/plain": [
       "<matplotlib.legend.Legend at 0x7f9454cb4100>"
      ]
     },
     "execution_count": 12,
     "metadata": {},
     "output_type": "execute_result"
    },
    {
     "data": {
      "image/png": "[encoded data removed]",
      "text/plain": [
       "<Figure size 864x648 with 6 Axes>"
      ]
     },
     "metadata": {
      "needs_background": "light"
     },
     "output_type": "display_data"
    }
   ],
   "source": [
    "SMALL_SIZE = 14\n",
    "MEDIUM_SIZE = 18\n",
    "LARGE_SIZE = 22\n",
    "HEAD_WIDTH = 1\n",
    "HEAD_LEN = 1\n",
    "FAMILY = \"Times New Roman\"\n",
    "plt.rc(\"font\", size=SMALL_SIZE, family=FAMILY)\n",
    "plt.rc(\"axes\", titlesize=MEDIUM_SIZE, labelsize=MEDIUM_SIZE, linewidth=1.0)\n",
    "plt.rc(\"xtick\", labelsize=SMALL_SIZE)\n",
    "plt.rc(\"ytick\", labelsize=SMALL_SIZE)\n",
    "plt.rc(\"legend\", fontsize=SMALL_SIZE)\n",
    "plt.rc(\"figure\", titlesize=LARGE_SIZE)\n",
    "\n",
    "apps = df[\"App\"].unique().tolist();\n",
    "metrics = df.columns[2:].tolist();\n",
    "\n",
    "for metric in metrics:\n",
    "    fig, axes = plt.subplots(nrows=2, ncols=len(apps),figsize=(12, 9));\n",
    "    for ic, app in enumerate(apps):\n",
    "        values = df[df[\"App\"] == app][[\"Key\", metric]];\n",
    "        values_fbp = values.loc[values['Key'].isin(['fbp_app_min','fbp_app_data','fbp_app_ml'])];\n",
    "        values_soa = values.loc[values['Key'].isin(['soa_app_min','soa_app_data','soa_app_ml'])];\n",
    "        labels = [k[k.rfind('_')+1:] for k in values_fbp[\"Key\"]];\n",
    "        X = np.arange(len(values_fbp));\n",
    "        axes[0][ic].bar(\n",
    "            X, values_fbp[metric], width=0.25,\n",
    "            tick_label=labels, align='center', color='b'\n",
    "        );\n",
    "        axes[0][ic].bar(\n",
    "            X+0.25, values_soa[metric], width=0.25,\n",
    "            tick_label=labels, align='center', color='r'\n",
    "        );\n",
    "        axes[0][0].set_ylabel(metric.replace('avg','').replace('p99','') + '\\n(Absolute Values)');\n",
    "        axes[0][ic].set_title(app.replace('_', ' ').title());\n",
    "        legend_elements = [Line2D([0], [0], color='b', label='FBP'),\n",
    "                       Line2D([0], [0], color='r', label='SOA')];\n",
    "        axes[0][ic].legend(handles=legend_elements, loc='best');\n",
    "        axes[0][ic].grid(linestyle=\"-\", linewidth=\"0.25\", color=\"grey\");\n",
    "        \n",
    "        values = all_changes_df[all_changes_df[\"App\"] == app][[\"Paradigm\", \"Keys\", metric]];\n",
    "        values_fbp = values.loc[values['Paradigm'].isin(['fbp'])];\n",
    "        values_soa = values.loc[values['Paradigm'].isin(['soa'])];\n",
    "        labels = values_fbp[\"Keys\"];\n",
    "        X = np.arange(len(values_fbp));\n",
    "        \n",
    "        axes[1][ic].bar(\n",
    "            X, values_fbp[metric], width=0.25,\n",
    "            tick_label=labels, align='center', color='b'\n",
    "        );\n",
    "        axes[1][ic].bar(\n",
    "            X+0.25, values_soa[metric], width=0.25,\n",
    "            tick_label=labels, align='center', color='r'\n",
    "        );\n",
    "        axes[1][0].set_ylabel(metric.replace('avg','').replace('p99','') + '\\n(Relative Difference)');\n",
    "        axes[0][ic].set_title(app.replace('_', ' ').title());\n",
    "        legend_elements = [Line2D([0], [0], color='b', label='FBP'),\n",
    "                       Line2D([0], [0], color='r', label='SOA')];\n",
    "        axes[1][ic].legend(handles=legend_elements, loc='best');\n",
    "        axes[1][ic].grid(linestyle=\"-\", linewidth=\"0.25\", color=\"grey\");\n",
    "        \n",
    "    fig.tight_layout();\n",
    "    plt.savefig('figures/' + metric.replace(' ','_').lower() + '.pdf');\n",
    "    plt.show(); \n",
    "    "
   ]
  },
  {
   "cell_type": "code",
   "execution_count": null,
   "id": "1dad9ad1",
   "metadata": {},
   "outputs": [],
   "source": []
  },
  {
   "cell_type": "code",
   "execution_count": null,
   "id": "f5cecd28",
   "metadata": {},
   "outputs": [],
   "source": []
  },
  {
   "cell_type": "code",
   "execution_count": null,
   "id": "2a806be9",
   "metadata": {},
   "outputs": [],
   "source": []
  }
 ],
 "metadata": {
  "kernelspec": {
   "display_name": "Python 3 (ipykernel)",
   "language": "python",
   "name": "python3"
  },
  "language_info": {
   "codemirror_mode": {
    "name": "ipython",
    "version": 3
   },
   "file_extension": ".py",
   "mimetype": "text/x-python",
   "name": "python",
   "nbconvert_exporter": "python",
   "pygments_lexer": "ipython3",
   "version": "3.8.10"
  }
 },
 "nbformat": 4,
 "nbformat_minor": 5
}
